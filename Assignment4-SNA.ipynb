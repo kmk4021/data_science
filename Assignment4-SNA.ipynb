{
 "cells": [
  {
   "cell_type": "code",
   "execution_count": 1,
   "metadata": {
    "collapsed": true
   },
   "outputs": [],
   "source": [
    "import networkx as nx\n",
    "import networkx.algorithms as algo\n",
    "import matplotlib.pyplot as plt\n",
    "%matplotlib inline"
   ]
  },
  {
   "cell_type": "markdown",
   "metadata": {},
   "source": [
    "##1. Graph Generators를 사용한 그래프 특성 분석\n",
    "###1) Classic 5개"
   ]
  },
  {
   "cell_type": "code",
   "execution_count": 3,
   "metadata": {
    "collapsed": false,
    "scrolled": false
   },
   "outputs": [
    {
     "data": {
      "image/png": "[encoded data removed]",
      "text/plain": [
       "<matplotlib.figure.Figure at 0xa400320>"
      ]
     },
     "metadata": {},
     "output_type": "display_data"
    }
   ],
   "source": [
    "lollipop = nx.lollipop_graph(3,10)\n",
    "nx.draw(lollipop, node_size=300, with_labels=True, font_size=12)"
   ]
  },
  {
   "cell_type": "markdown",
   "metadata": {},
   "source": [
    "- lollipop_graph(m, n, create_suing=None)\n",
    "- return the Lollipop Graph \n",
    "- m: 동그란 부분의 개수\n",
    "- n: 막대 부분의 개수"
   ]
  },
  {
   "cell_type": "code",
   "execution_count": 4,
   "metadata": {
    "collapsed": false,
    "scrolled": true
   },
   "outputs": [
    {
     "name": "stdout",
     "output_type": "stream",
     "text": [
      "radius(lollipop): 6\n",
      "diameter(lollipop): 11\n",
      "center(lollipop): [6, 7]\n",
      "periphery(lollipop): [0, 1, 12]\n"
     ]
    },
    {
     "data": {
      "text/plain": [
       "{0: 1.0,\n",
       " 1: 1.0,\n",
       " 2: 0.3333333333333333,\n",
       " 3: 0.0,\n",
       " 4: 0.0,\n",
       " 5: 0.0,\n",
       " 6: 0.0,\n",
       " 7: 0.0,\n",
       " 8: 0.0,\n",
       " 9: 0.0,\n",
       " 10: 0.0,\n",
       " 11: 0.0,\n",
       " 12: 0.0}"
      ]
     },
     "execution_count": 4,
     "metadata": {},
     "output_type": "execute_result"
    }
   ],
   "source": [
    "print \"radius(lollipop):\", algo.radius(lollipop)\n",
    "print \"diameter(lollipop):\", algo.diameter(lollipop)\n",
    "print \"center(lollipop):\", algo.center(lollipop)\n",
    "print \"periphery(lollipop):\", algo.periphery(lollipop)\n",
    "nx.clustering(lollipop)"
   ]
  },
  {
   "cell_type": "markdown",
   "metadata": {},
   "source": [
    "- radius: eccentricity가 가장 작은 값으로 6, 7에서 6으로 가장 작음, 즉 radius = 6\n",
    "- diameter: eccentricity가 가장 큰 값으로 0, 1, 12에서 11로 가장 geodesic distance가 큼\n",
    "- center는 radius 값을 갖는 노드로 6,7임\n",
    "- periphery: eccentricity가 diameter과 동일한 값을 갖는 노드로 0, 1, 12가 된다.\n",
    "- cluster coefficient는 이웃 노드들 간의 관계를 나타내며 0, 1, 2 노드에서만 이웃 노드 간의 관계가 존재한다. 0과 1 노드는 이웃간에 모두 edge가 있으므로 값이 1이고, 2번 노드의 경우, 세 개의 이웃간의 노드가 하나밖에 없기 때문에 0.33이 된다."
   ]
  },
  {
   "cell_type": "code",
   "execution_count": 5,
   "metadata": {
    "collapsed": false
   },
   "outputs": [
    {
     "data": {
      "image/png": "[encoded data removed]",
      "text/plain": [
       "<matplotlib.figure.Figure at 0xa4007b8>"
      ]
     },
     "metadata": {},
     "output_type": "display_data"
    }
   ],
   "source": [
    "barbell = nx.barbell_graph(3, 15)\n",
    "nx.draw(barbell, node_size=200, with_labels=True, font_size = 7)"
   ]
  },
  {
   "cell_type": "markdown",
   "metadata": {},
   "source": [
    "- barbell_graph(m1, m2[, create_using])\n",
    "- return the barbell graph\n",
    "- m1: 양 끝의 동그란 부분의 개수 (동일)\n",
    "- m2: 양 끝을 연결하는 부분의 node 수"
   ]
  },
  {
   "cell_type": "code",
   "execution_count": 6,
   "metadata": {
    "collapsed": false,
    "scrolled": true
   },
   "outputs": [
    {
     "name": "stdout",
     "output_type": "stream",
     "text": [
      "radius(barbell): 9\n",
      "diameter(barbell): 18\n",
      "center(barbell): [10]\n",
      "periphery(barbell): [0, 1, 19, 20]\n"
     ]
    },
    {
     "data": {
      "text/plain": [
       "{0: 1.0,\n",
       " 1: 1.0,\n",
       " 2: 0.3333333333333333,\n",
       " 3: 0.0,\n",
       " 4: 0.0,\n",
       " 5: 0.0,\n",
       " 6: 0.0,\n",
       " 7: 0.0,\n",
       " 8: 0.0,\n",
       " 9: 0.0,\n",
       " 10: 0.0,\n",
       " 11: 0.0,\n",
       " 12: 0.0,\n",
       " 13: 0.0,\n",
       " 14: 0.0,\n",
       " 15: 0.0,\n",
       " 16: 0.0,\n",
       " 17: 0.0,\n",
       " 18: 0.3333333333333333,\n",
       " 19: 1.0,\n",
       " 20: 1.0}"
      ]
     },
     "execution_count": 6,
     "metadata": {},
     "output_type": "execute_result"
    }
   ],
   "source": [
    "print \"radius(barbell):\", algo.radius(barbell)\n",
    "print \"diameter(barbell):\", algo.diameter(barbell)\n",
    "print \"center(barbell):\", algo.center(barbell)\n",
    "print \"periphery(barbell):\", algo.periphery(barbell)\n",
    "nx.clustering(barbell)"
   ]
  },
  {
   "cell_type": "markdown",
   "metadata": {},
   "source": [
    "- radius 값과 그 값을 갖는 노드인 center는 그래프의 중앙 부근에 있는 노드가 될 것이라 예상된다. 바벨의 모양이 양방향으로 동일하기 때문에 중앙에 위치한 11번 노드가 center가 되고 최소의 eccentricity 값, 즉 radius 값을 갖는다.\n",
    "- diameter는 eccentricity가 최대인 것으로 양방향의 가장 끝에 있는 노드로 이동할 때의 geodesic distance가 된다.\n",
    "- clustering coefficient는 이웃간의 edge가 존재하는 양 끝의 barbell부분에서만 값이 존재한다. 0, 1, 19, 20 번 노드의 경우 이웃간의 edge가 모두 존재하기 때문에 1이고, 2번과 18번의 경우는 한쪽 이웃 노드와의 edge가 존재하지 않기 때문에 0.33이 된다."
   ]
  },
  {
   "cell_type": "code",
   "execution_count": 7,
   "metadata": {
    "collapsed": false
   },
   "outputs": [
    {
     "data": {
      "image/png": "[encoded data removed]",
      "text/plain": [
       "<matplotlib.figure.Figure at 0xa8a97f0>"
      ]
     },
     "metadata": {},
     "output_type": "display_data"
    }
   ],
   "source": [
    "wheel = nx.wheel_graph(10)\n",
    "nx.draw(wheel, node_size=300, with_labels=True, font_size=12)"
   ]
  },
  {
   "cell_type": "markdown",
   "metadata": {},
   "source": [
    "- return the wheel graph: single hub node \n",
    "- 각각의 (n-1)node와 연결된 cycle graph"
   ]
  },
  {
   "cell_type": "code",
   "execution_count": 8,
   "metadata": {
    "collapsed": false,
    "scrolled": true
   },
   "outputs": [
    {
     "name": "stdout",
     "output_type": "stream",
     "text": [
      "radius(wheel): 1\n",
      "diameter(wheel): 2\n",
      "center(wheel): [0]\n",
      "periphery(wheel): [1, 2, 3, 4, 5, 6, 7, 8, 9]\n"
     ]
    },
    {
     "data": {
      "text/plain": [
       "{0: 0.25,\n",
       " 1: 0.6666666666666666,\n",
       " 2: 0.6666666666666666,\n",
       " 3: 0.6666666666666666,\n",
       " 4: 0.6666666666666666,\n",
       " 5: 0.6666666666666666,\n",
       " 6: 0.6666666666666666,\n",
       " 7: 0.6666666666666666,\n",
       " 8: 0.6666666666666666,\n",
       " 9: 0.6666666666666666}"
      ]
     },
     "execution_count": 8,
     "metadata": {},
     "output_type": "execute_result"
    }
   ],
   "source": [
    "print \"radius(wheel):\", algo.radius(wheel)\n",
    "print \"diameter(wheel):\", algo.diameter(wheel)\n",
    "print \"center(wheel):\", algo.center(wheel)\n",
    "print \"periphery(wheel):\", algo.periphery(wheel)\n",
    "nx.clustering(wheel)"
   ]
  },
  {
   "cell_type": "markdown",
   "metadata": {},
   "source": [
    "- wheel 모양은 중앙의 하나의 노드 (single hub node)로 연결된 형태로 cycle graph\n",
    "- radius는 hub node에서 다른 모드로 가는 eccentricity, 즉 1이 되고, center는 역시 0번 node가 됨\n",
    "- diameter는 hub node를 제외한 나머지 노드 간의 거리로, geodesic distance이므로 hub node를 지나는 가장 최소 거리인 2가 된다. Periphery는 역시 hub node를 제외한 모든 노드가 됨\n",
    "- Cluster coefficient는 hub node를 제외하고 동일한 값을 가지며, 0에서는 다른 노드에 비해 적은 이웃 노드간의 edge가 존재하므로 값이 작게 나옴"
   ]
  },
  {
   "cell_type": "markdown",
   "metadata": {},
   "source": []
  },
  {
   "cell_type": "code",
   "execution_count": 9,
   "metadata": {
    "collapsed": false,
    "scrolled": true
   },
   "outputs": [
    {
     "data": {
      "image/png": "[encoded data removed]",
      "text/plain": [
       "<matplotlib.figure.Figure at 0xa8a90b8>"
      ]
     },
     "metadata": {},
     "output_type": "display_data"
    }
   ],
   "source": [
    "path = nx.path_graph(10)\n",
    "nx.draw(path, node_size=300, with_labels=True, font_size=12)"
   ]
  },
  {
   "cell_type": "markdown",
   "metadata": {},
   "source": [
    "- Return the path graph P_n of n nodes linealy connected by n-1 edges."
   ]
  },
  {
   "cell_type": "code",
   "execution_count": 10,
   "metadata": {
    "collapsed": false,
    "scrolled": true
   },
   "outputs": [
    {
     "name": "stdout",
     "output_type": "stream",
     "text": [
      "radius(path): 5\n",
      "diameter(path): 9\n",
      "center(path): [4, 5]\n",
      "periphery(path): [0, 9]\n"
     ]
    },
    {
     "data": {
      "text/plain": [
       "{0: 0.0,\n",
       " 1: 0.0,\n",
       " 2: 0.0,\n",
       " 3: 0.0,\n",
       " 4: 0.0,\n",
       " 5: 0.0,\n",
       " 6: 0.0,\n",
       " 7: 0.0,\n",
       " 8: 0.0,\n",
       " 9: 0.0}"
      ]
     },
     "execution_count": 10,
     "metadata": {},
     "output_type": "execute_result"
    }
   ],
   "source": [
    "print \"radius(path):\", algo.radius(path)\n",
    "print \"diameter(path):\", algo.diameter(path)\n",
    "print \"center(path):\", algo.center(path)\n",
    "print \"periphery(path):\", algo.periphery(path)\n",
    "nx.clustering(path)"
   ]
  },
  {
   "cell_type": "markdown",
   "metadata": {},
   "source": [
    "- Radius는 중앙에 위치한 node부터의 거리가 되므로 5가 되며, center는 4,5가 됨\n",
    "- Diameter는 양 끝 점 사이의 geodesic distance가 되며 9가 되고, periphery는 양 끝 노드인 0과 9가 됨\n",
    "- Clustering coefficient는 각 노드마다 neighbor의 edge가 존재하지 않기 때문에 모두 0이 됨"
   ]
  },
  {
   "cell_type": "code",
   "execution_count": 11,
   "metadata": {
    "collapsed": false,
    "scrolled": true
   },
   "outputs": [
    {
     "data": {
      "image/png": "[encoded data removed]",
      "text/plain": [
       "<matplotlib.figure.Figure at 0xa551390>"
      ]
     },
     "metadata": {},
     "output_type": "display_data"
    }
   ],
   "source": [
    "empty = nx.empty_graph(10)\n",
    "nx.draw(empty, node_size=300, with_labels=True, font_size=16)"
   ]
  },
  {
   "cell_type": "markdown",
   "metadata": {},
   "source": [
    "- Return the empty graph with n nodes and zero deges."
   ]
  },
  {
   "cell_type": "code",
   "execution_count": 12,
   "metadata": {
    "collapsed": false,
    "scrolled": true
   },
   "outputs": [
    {
     "name": "stdout",
     "output_type": "stream",
     "text": [
      "radius(empty):"
     ]
    },
    {
     "ename": "NetworkXError",
     "evalue": "Graph not connected: infinite path length",
     "output_type": "error",
     "traceback": [
      "\u001b[1;31m---------------------------------------------------------------------------\u001b[0m",
      "\u001b[1;31mNetworkXError\u001b[0m                             Traceback (most recent call last)",
      "\u001b[1;32m<ipython-input-12-49fb1f090d92>\u001b[0m in \u001b[0;36m<module>\u001b[1;34m()\u001b[0m\n\u001b[1;32m----> 1\u001b[1;33m \u001b[1;32mprint\u001b[0m \u001b[1;34m\"radius(empty):\"\u001b[0m\u001b[1;33m,\u001b[0m \u001b[0malgo\u001b[0m\u001b[1;33m.\u001b[0m\u001b[0mradius\u001b[0m\u001b[1;33m(\u001b[0m\u001b[0mempty\u001b[0m\u001b[1;33m)\u001b[0m\u001b[1;33m\u001b[0m\u001b[0m\n\u001b[0m\u001b[0;32m      2\u001b[0m \u001b[1;32mprint\u001b[0m \u001b[1;34m\"diameter(empty):\"\u001b[0m\u001b[1;33m,\u001b[0m \u001b[0malgo\u001b[0m\u001b[1;33m.\u001b[0m\u001b[0mdiameter\u001b[0m\u001b[1;33m(\u001b[0m\u001b[0mempty\u001b[0m\u001b[1;33m)\u001b[0m\u001b[1;33m\u001b[0m\u001b[0m\n\u001b[0;32m      3\u001b[0m \u001b[1;32mprint\u001b[0m \u001b[1;34m\"center(empty):\"\u001b[0m\u001b[1;33m,\u001b[0m \u001b[0malgo\u001b[0m\u001b[1;33m.\u001b[0m\u001b[0mcenter\u001b[0m\u001b[1;33m(\u001b[0m\u001b[0mempty\u001b[0m\u001b[1;33m)\u001b[0m\u001b[1;33m\u001b[0m\u001b[0m\n\u001b[0;32m      4\u001b[0m \u001b[1;32mprint\u001b[0m \u001b[1;34m\"periphery(empty):\"\u001b[0m\u001b[1;33m,\u001b[0m \u001b[0malgo\u001b[0m\u001b[1;33m.\u001b[0m\u001b[0mperiphery\u001b[0m\u001b[1;33m(\u001b[0m\u001b[0mempty\u001b[0m\u001b[1;33m)\u001b[0m\u001b[1;33m\u001b[0m\u001b[0m\n\u001b[0;32m      5\u001b[0m \u001b[0mnx\u001b[0m\u001b[1;33m.\u001b[0m\u001b[0mclustering\u001b[0m\u001b[1;33m(\u001b[0m\u001b[0mempty\u001b[0m\u001b[1;33m)\u001b[0m\u001b[1;33m\u001b[0m\u001b[0m\n",
      "\u001b[1;32mC:\\Users\\rheem\\AppData\\Local\\Enthought\\Canopy\\User\\lib\\site-packages\\networkx\\algorithms\\distance_measures.pyc\u001b[0m in \u001b[0;36mradius\u001b[1;34m(G, e)\u001b[0m\n\u001b[0;32m    141\u001b[0m     \"\"\"\n\u001b[0;32m    142\u001b[0m     \u001b[1;32mif\u001b[0m \u001b[0me\u001b[0m \u001b[1;32mis\u001b[0m \u001b[0mNone\u001b[0m\u001b[1;33m:\u001b[0m\u001b[1;33m\u001b[0m\u001b[0m\n\u001b[1;32m--> 143\u001b[1;33m         \u001b[0me\u001b[0m\u001b[1;33m=\u001b[0m\u001b[0meccentricity\u001b[0m\u001b[1;33m(\u001b[0m\u001b[0mG\u001b[0m\u001b[1;33m)\u001b[0m\u001b[1;33m\u001b[0m\u001b[0m\n\u001b[0m\u001b[0;32m    144\u001b[0m     \u001b[1;32mreturn\u001b[0m \u001b[0mmin\u001b[0m\u001b[1;33m(\u001b[0m\u001b[0me\u001b[0m\u001b[1;33m.\u001b[0m\u001b[0mvalues\u001b[0m\u001b[1;33m(\u001b[0m\u001b[1;33m)\u001b[0m\u001b[1;33m)\u001b[0m\u001b[1;33m\u001b[0m\u001b[0m\n\u001b[0;32m    145\u001b[0m \u001b[1;33m\u001b[0m\u001b[0m\n",
      "\u001b[1;32mC:\\Users\\rheem\\AppData\\Local\\Enthought\\Canopy\\User\\lib\\site-packages\\networkx\\algorithms\\distance_measures.pyc\u001b[0m in \u001b[0;36meccentricity\u001b[1;34m(G, v, sp)\u001b[0m\n\u001b[0;32m     61\u001b[0m         \u001b[1;32mif\u001b[0m \u001b[0mL\u001b[0m \u001b[1;33m!=\u001b[0m \u001b[0morder\u001b[0m\u001b[1;33m:\u001b[0m\u001b[1;33m\u001b[0m\u001b[0m\n\u001b[0;32m     62\u001b[0m             \u001b[0mmsg\u001b[0m \u001b[1;33m=\u001b[0m \u001b[1;34m\"Graph not connected: infinite path length\"\u001b[0m\u001b[1;33m\u001b[0m\u001b[0m\n\u001b[1;32m---> 63\u001b[1;33m             \u001b[1;32mraise\u001b[0m \u001b[0mnetworkx\u001b[0m\u001b[1;33m.\u001b[0m\u001b[0mNetworkXError\u001b[0m\u001b[1;33m(\u001b[0m\u001b[0mmsg\u001b[0m\u001b[1;33m)\u001b[0m\u001b[1;33m\u001b[0m\u001b[0m\n\u001b[0m\u001b[0;32m     64\u001b[0m \u001b[1;33m\u001b[0m\u001b[0m\n\u001b[0;32m     65\u001b[0m         \u001b[0me\u001b[0m\u001b[1;33m[\u001b[0m\u001b[0mn\u001b[0m\u001b[1;33m]\u001b[0m\u001b[1;33m=\u001b[0m\u001b[0mmax\u001b[0m\u001b[1;33m(\u001b[0m\u001b[0mlength\u001b[0m\u001b[1;33m.\u001b[0m\u001b[0mvalues\u001b[0m\u001b[1;33m(\u001b[0m\u001b[1;33m)\u001b[0m\u001b[1;33m)\u001b[0m\u001b[1;33m\u001b[0m\u001b[0m\n",
      "\u001b[1;31mNetworkXError\u001b[0m: Graph not connected: infinite path length"
     ]
    }
   ],
   "source": [
    "print \"radius(empty):\", algo.radius(empty)\n",
    "print \"diameter(empty):\", algo.diameter(empty)\n",
    "print \"center(empty):\", algo.center(empty)\n",
    "print \"periphery(empty):\", algo.periphery(empty)\n",
    "nx.clustering(empty)"
   ]
  },
  {
   "cell_type": "markdown",
   "metadata": {},
   "source": [
    "- Empty graph는 node간의 edge와 degree를 없게 하기 때문에 위의 값들이 출력되지 않는다."
   ]
  },
  {
   "cell_type": "markdown",
   "metadata": {},
   "source": [
    "###2. Random graphs\n",
    "- Random graph의 경우, 임의로 노드의 연결 등이 바뀌기 때문에 분석한 내용과 달라지는 문제가 있습니다."
   ]
  },
  {
   "cell_type": "code",
   "execution_count": 13,
   "metadata": {
    "collapsed": false
   },
   "outputs": [
    {
     "name": "stdout",
     "output_type": "stream",
     "text": [
      "\n"
     ]
    },
    {
     "data": {
      "image/png": "[encoded data removed]",
      "text/plain": [
       "<matplotlib.figure.Figure at 0xa8f7438>"
      ]
     },
     "metadata": {},
     "output_type": "display_data"
    }
   ],
   "source": [
    "regular = nx.random_regular_graph(5, 10)\n",
    "nx.draw(regular, node_size=300, with_labels=True, font_size=15)"
   ]
  },
  {
   "cell_type": "markdown",
   "metadata": {},
   "source": [
    "- Random regular graph 반환\n",
    "- 각각 degree d를 갖는 n개의 node graph 형태 -> 5개의 degree를 갖는 10개의 node\n",
    "- n: degree\n",
    "- n: number of nodes"
   ]
  },
  {
   "cell_type": "code",
   "execution_count": 14,
   "metadata": {
    "collapsed": false,
    "scrolled": true
   },
   "outputs": [
    {
     "name": "stdout",
     "output_type": "stream",
     "text": [
      "radius(regular): 2\n",
      "diameter(regular): 2\n",
      "center(regular): [0, 1, 2, 3, 4, 5, 6, 7, 8, 9]\n",
      "periphery(regular): [0, 1, 2, 3, 4, 5, 6, 7, 8, 9]\n"
     ]
    },
    {
     "data": {
      "text/plain": [
       "{0: 0.4,\n",
       " 1: 0.4,\n",
       " 2: 0.3,\n",
       " 3: 0.5,\n",
       " 4: 0.5,\n",
       " 5: 0.4,\n",
       " 6: 0.3,\n",
       " 7: 0.5,\n",
       " 8: 0.4,\n",
       " 9: 0.5}"
      ]
     },
     "execution_count": 14,
     "metadata": {},
     "output_type": "execute_result"
    }
   ],
   "source": [
    "print \"radius(regular):\", algo.radius(regular)\n",
    "print \"diameter(regular):\", algo.diameter(regular)\n",
    "print \"center(regular):\", algo.center(regular)\n",
    "print \"periphery(regular):\", algo.periphery(regular)\n",
    "nx.clustering(regular)"
   ]
  },
  {
   "cell_type": "markdown",
   "metadata": {},
   "source": [
    "- regular graph의 경우, 모든 노드가 random하게 5개씩의 노드와 연결되어 있기 때문에, radius와 diameter가 동일하게 2가 된다. 어떤 노드로 가던 geodesic distance는 2가 되기 때문\n",
    "- center와 periphery도 전체 노드가 속함\n",
    "- clustering coefficient는 random하게 연결되어있기 때문에 각각의 값들이 조금씩 차이가 나지만 모든 노드에서 값이 존재한다."
   ]
  },
  {
   "cell_type": "code",
   "execution_count": 15,
   "metadata": {
    "collapsed": false
   },
   "outputs": [
    {
     "data": {
      "image/png": "[encoded data removed]",
      "text/plain": [
       "<matplotlib.figure.Figure at 0xd05d1d0>"
      ]
     },
     "metadata": {},
     "output_type": "display_data"
    }
   ],
   "source": [
    "barabasi = nx.barabasi_albert_graph(10, 3)\n",
    "nx.draw(barabasi, node_size=300, with_labels=True, font_size=15)"
   ]
  },
  {
   "cell_type": "markdown",
   "metadata": {},
   "source": [
    "- Barabasi-Albert preferential attachment model\n",
    "- m: node의 수\n",
    "- m: 새로운 노드에서 존재하는 노드로 attach되는 edge의 수\n",
    "- 새로운 노드가 기존 노드에 3개의 edge로 붙으며 생성되는 그래프 형태"
   ]
  },
  {
   "cell_type": "code",
   "execution_count": 16,
   "metadata": {
    "collapsed": false,
    "scrolled": true
   },
   "outputs": [
    {
     "name": "stdout",
     "output_type": "stream",
     "text": [
      "radius(barabasi): 2\n",
      "diameter(barabasi): 3\n",
      "center(barabasi): [1, 2, 3, 4, 6, 7, 8]\n",
      "periphery(barabasi): [0, 5, 9]\n"
     ]
    },
    {
     "data": {
      "text/plain": [
       "{0: 0.0,\n",
       " 1: 0.3,\n",
       " 2: 0.38095238095238093,\n",
       " 3: 0.2857142857142857,\n",
       " 4: 0.6666666666666666,\n",
       " 5: 0.4,\n",
       " 6: 0.6666666666666666,\n",
       " 7: 0.6666666666666666,\n",
       " 8: 0.5,\n",
       " 9: 0.3333333333333333}"
      ]
     },
     "execution_count": 16,
     "metadata": {},
     "output_type": "execute_result"
    }
   ],
   "source": [
    "print \"radius(barabasi):\", algo.radius(barabasi)\n",
    "print \"diameter(barabasi):\", algo.diameter(barabasi)\n",
    "print \"center(barabasi):\", algo.center(barabasi)\n",
    "print \"periphery(barabasi):\", algo.periphery(barabasi)\n",
    "nx.clustering(barabasi)"
   ]
  },
  {
   "cell_type": "markdown",
   "metadata": {},
   "source": [
    "- 최소 essentricity는 2로, 노드 1, 2, 3, 4, 6, 7, 8에서 동일\n",
    "- 다른 노드 간의 geodesic distance는 모두 2이므로 diameter는 2이고 periphery는 center인 3을 뺀 모든 노드이다.\n",
    "- clustering coefficient는 노드 0, 1, 6, 8, 9의 경우 이웃 노드들 사이에 모두 edge가 있기 때문에 1로 반환되고 그 외 0을 제외한 노드는 모두 3개의 edge를 갖기 때문에 0이 아닌 값을 갖게 된다."
   ]
  },
  {
   "cell_type": "code",
   "execution_count": 17,
   "metadata": {
    "collapsed": false
   },
   "outputs": [
    {
     "data": {
      "image/png": "[encoded data removed]",
      "text/plain": [
       "<matplotlib.figure.Figure at 0xd2580b8>"
      ]
     },
     "metadata": {},
     "output_type": "display_data"
    }
   ],
   "source": [
    "powerlaw = nx.random_powerlaw_tree(10, gamma=3, seed=None, tries=100)\n",
    "nx.draw(powerlaw, node_size=300, with_labels=True, font_size=12)"
   ]
  },
  {
   "cell_type": "markdown",
   "metadata": {},
   "source": [
    "- Powerlaw degree distribution을 갖는 graph 출력\n",
    "- n: node의 수\n",
    "- gamma: floatting. power-law의 exponent\n",
    "- seed: random number generator (default = None)\n",
    "- tries: tree의 sequence를 조정하기 위한 attempts의 수"
   ]
  },
  {
   "cell_type": "code",
   "execution_count": 18,
   "metadata": {
    "collapsed": false,
    "scrolled": true
   },
   "outputs": [
    {
     "name": "stdout",
     "output_type": "stream",
     "text": [
      "radius(powerlaw): 3\n",
      "diameter(powerlaw): 5\n",
      "center(powerlaw): [2, 3]\n",
      "periphery(powerlaw): [0, 5, 7, 8, 9]\n"
     ]
    },
    {
     "data": {
      "text/plain": [
       "{0: 0.0,\n",
       " 1: 0.0,\n",
       " 2: 0.0,\n",
       " 3: 0.0,\n",
       " 4: 0.0,\n",
       " 5: 0.0,\n",
       " 6: 0.0,\n",
       " 7: 0.0,\n",
       " 8: 0.0,\n",
       " 9: 0.0}"
      ]
     },
     "execution_count": 18,
     "metadata": {},
     "output_type": "execute_result"
    }
   ],
   "source": [
    "print \"radius(powerlaw):\", algo.radius(powerlaw)\n",
    "print \"diameter(powerlaw):\", algo.diameter(powerlaw)\n",
    "print \"center(powerlaw):\", algo.center(powerlaw)\n",
    "print \"periphery(powerlaw):\", algo.periphery(powerlaw)\n",
    "nx.clustering(powerlaw)"
   ]
  },
  {
   "cell_type": "markdown",
   "metadata": {},
   "source": [
    "- radius와 center는 그래프의 중앙에 위치한 노드에서의 거리가 된다. 양 방향의 중심에 위치한 노드에서 양 끝으로 가는 거리가 최소 eccentricity가 되기 때문에 radius는 3, center는 2와 3번 노드가 된다.\n",
    "- diameter는 양 끝 노드 간의 거리로, 5이며 4와 연결된 4개의 이웃 노드와 0이 periphery가 된다.\n",
    "- cluster coefficient는 모두 이웃 노드들 간의 edge가 없기 때문에 0이다."
   ]
  },
  {
   "cell_type": "code",
   "execution_count": 29,
   "metadata": {
    "collapsed": false
   },
   "outputs": [
    {
     "data": {
      "image/png": "[encoded data removed]",
      "text/plain": [
       "<matplotlib.figure.Figure at 0xe3a9518>"
      ]
     },
     "metadata": {},
     "output_type": "display_data"
    }
   ],
   "source": [
    "watts=nx.watts_strogatz_graph(30,3,0.6)\n",
    "nx.draw(watts, node_size=200, with_labels=True, font_size=10)"
   ]
  },
  {
   "cell_type": "markdown",
   "metadata": {},
   "source": [
    "- Watts-Strogatz small-world graph 출력\n",
    "- n: node의 수\n",
    "- k: ring topology에서 k개의 가까운 neighbor과 연결된 각 노드의 수\n",
    "- p: 각 edge의 연결 확률"
   ]
  },
  {
   "cell_type": "code",
   "execution_count": 30,
   "metadata": {
    "collapsed": false,
    "scrolled": true
   },
   "outputs": [
    {
     "name": "stdout",
     "output_type": "stream",
     "text": [
      "radius(watts): 8\n",
      "diameter(watts): 16\n",
      "center(watts): [12, 29]\n",
      "periphery(watts): [0, 5]\n"
     ]
    },
    {
     "data": {
      "text/plain": [
       "{0: 0.0,\n",
       " 1: 0.0,\n",
       " 2: 0.0,\n",
       " 3: 0.0,\n",
       " 4: 0.0,\n",
       " 5: 0.0,\n",
       " 6: 0.0,\n",
       " 7: 0.0,\n",
       " 8: 0.0,\n",
       " 9: 0.0,\n",
       " 10: 0.0,\n",
       " 11: 0.0,\n",
       " 12: 0.0,\n",
       " 13: 0.0,\n",
       " 14: 0.0,\n",
       " 15: 0.0,\n",
       " 16: 0.0,\n",
       " 17: 0.0,\n",
       " 18: 0.0,\n",
       " 19: 0.0,\n",
       " 20: 0.0,\n",
       " 21: 0.0,\n",
       " 22: 0.0,\n",
       " 23: 0.0,\n",
       " 24: 0.0,\n",
       " 25: 0.0,\n",
       " 26: 0.0,\n",
       " 27: 0.0,\n",
       " 28: 0.0,\n",
       " 29: 0.0}"
      ]
     },
     "execution_count": 30,
     "metadata": {},
     "output_type": "execute_result"
    }
   ],
   "source": [
    "print \"radius(watts):\", algo.radius(watts)\n",
    "print \"diameter(watts):\", algo.diameter(watts)\n",
    "print \"center(watts):\", algo.center(watts)\n",
    "print \"periphery(watts):\", algo.periphery(watts)\n",
    "nx.clustering(watts)"
   ]
  },
  {
   "cell_type": "markdown",
   "metadata": {
    "collapsed": true
   },
   "source": [
    "- 가장 작은 eccentricity는 8이고, 중앙에 위치한 12, 29번 노드가 center가 된다.\n",
    "- diameter는 양 끝의 eccentricity가 되며 5번 노드에서 0번 노드까지의 거리 16이 되며, 0번과 5번 노드가 periphery가 된다.\n",
    "- 노드의 이웃들 간의 연결관계가 없기 때문에 clustering coefficient는 모두 0이 된다."
   ]
  },
  {
   "cell_type": "code",
   "execution_count": 37,
   "metadata": {
    "collapsed": false
   },
   "outputs": [
    {
     "data": {
      "image/png": "[encoded data removed]",
      "text/plain": [
       "<matplotlib.figure.Figure at 0xcc97160>"
      ]
     },
     "metadata": {},
     "output_type": "display_data"
    }
   ],
   "source": [
    "gnm= nx.gnm_random_graph(10, 15)\n",
    "nx.draw(gnm, node_size=200, with_labels=True, font_size=7)"
   ]
  },
  {
   "cell_type": "markdown",
   "metadata": {},
   "source": [
    "- n개의 node와 m개의 edge를 random하게 추출한 graph\n",
    "- n: node의 수\n",
    "- m: edge의 수"
   ]
  },
  {
   "cell_type": "code",
   "execution_count": 38,
   "metadata": {
    "collapsed": false,
    "scrolled": true
   },
   "outputs": [
    {
     "name": "stdout",
     "output_type": "stream",
     "text": [
      "radius(gnm): 2\n",
      "diameter(gnm): 3\n",
      "center(gnm): [9]\n",
      "periphery(gnm): [0, 1, 2, 3, 4, 5, 6, 7, 8]\n"
     ]
    },
    {
     "data": {
      "text/plain": [
       "{0: 0.0,\n",
       " 1: 0.0,\n",
       " 2: 0.0,\n",
       " 3: 0.3333333333333333,\n",
       " 4: 0.0,\n",
       " 5: 0.6666666666666666,\n",
       " 6: 0.0,\n",
       " 7: 0.0,\n",
       " 8: 0.3333333333333333,\n",
       " 9: 0.1}"
      ]
     },
     "execution_count": 38,
     "metadata": {},
     "output_type": "execute_result"
    }
   ],
   "source": [
    "print \"radius(gnm):\", algo.radius(gnm)\n",
    "print \"diameter(gnm):\", algo.diameter(gnm)\n",
    "print \"center(gnm):\", algo.center(gnm)\n",
    "print \"periphery(gnm):\", algo.periphery(gnm)\n",
    "nx.clustering(gnm)"
   ]
  },
  {
   "cell_type": "markdown",
   "metadata": {},
   "source": [
    "- 최소 eccentricity는 2로, center는 9이다.\n",
    "- 최대 eccentricity는 3으로, periphery는 0, 1, 2, 3, 4, 5, 6, 7, 8로 center를 제외한 모든 노드의 값이 동일하기 때문이다.\n",
    "- 3, 5, 8 노드에만 이웃 간의 edge가 존재하기 때문에 clustering coefficient가 존재한다."
   ]
  },
  {
   "cell_type": "markdown",
   "metadata": {
    "collapsed": true
   },
   "source": [
    "## 2. Twitter social graph analysis"
   ]
  },
  {
   "cell_type": "code",
   "execution_count": 45,
   "metadata": {
    "collapsed": false
   },
   "outputs": [],
   "source": [
    "from networkx import nx\n",
    "from os import listdir\n",
    "import os\n",
    "import numpy as np\n",
    "import sys\n",
    "\n",
    "mainpath = os.path.dirname(os.path.realpath('__file__'))\n",
    "\n",
    "def load_files_bytype(file_type):\n",
    "    import glob\n",
    "    files = glob.glob(\"%s/twitter/*.%s\" % (mainpath, file_type))\n",
    "    return files"
   ]
  },
  {
   "cell_type": "code",
   "execution_count": 46,
   "metadata": {
    "collapsed": false
   },
   "outputs": [],
   "source": [
    "network = nx.DiGraph()\n",
    "\n",
    "def load_edges():\n",
    "    edge_file = open(\"%s/twitter_combined.txt\" % (mainpath),\"r\")\n",
    "    for line in edge_file:\n",
    "        # node from node to\n",
    "        split = [int(x) for x in line.split(\" \")]\n",
    "        node_from = split[0]\n",
    "        node_to = split[1]\n",
    "        network.add_edge(node_from, node_to)\n",
    "        \n",
    "load_edges()"
   ]
  },
  {
   "cell_type": "code",
   "execution_count": 47,
   "metadata": {
    "collapsed": false
   },
   "outputs": [
    {
     "data": {
      "image/png": "[encoded data removed]",
      "text/plain": [
       "<matplotlib.figure.Figure at 0xa403ef0>"
      ]
     },
     "metadata": {},
     "output_type": "display_data"
    }
   ],
   "source": [
    "nx.draw(network, node_size=10, with_labels=False, font_size=16)"
   ]
  },
  {
   "cell_type": "code",
   "execution_count": 51,
   "metadata": {
    "collapsed": false
   },
   "outputs": [
    {
     "name": "stdout",
     "output_type": "stream",
     "text": [
      " number of nodes: 1831\n",
      "number of edges: 32107\n",
      "average clustering coefficient: 0.503923543895\n",
      "radius:"
     ]
    },
    {
     "ename": "NetworkXError",
     "evalue": "Graph not connected: infinite path length",
     "output_type": "error",
     "traceback": [
      "\u001b[1;31m---------------------------------------------------------------------------\u001b[0m",
      "\u001b[1;31mNetworkXError\u001b[0m                             Traceback (most recent call last)",
      "\u001b[1;32m<ipython-input-51-dedd8dec8021>\u001b[0m in \u001b[0;36m<module>\u001b[1;34m()\u001b[0m\n\u001b[0;32m      3\u001b[0m \u001b[1;32mprint\u001b[0m \u001b[1;34m\"number of edges:\"\u001b[0m\u001b[1;33m,\u001b[0m \u001b[0mnetwork\u001b[0m\u001b[1;33m.\u001b[0m\u001b[0mnumber_of_edges\u001b[0m\u001b[1;33m(\u001b[0m\u001b[1;33m)\u001b[0m\u001b[1;33m\u001b[0m\u001b[0m\n\u001b[0;32m      4\u001b[0m \u001b[1;32mprint\u001b[0m \u001b[1;34m\"average clustering coefficient:\"\u001b[0m\u001b[1;33m,\u001b[0m \u001b[0mnx\u001b[0m\u001b[1;33m.\u001b[0m\u001b[0maverage_clustering\u001b[0m\u001b[1;33m(\u001b[0m\u001b[0munfinetwork\u001b[0m\u001b[1;33m)\u001b[0m\u001b[1;33m\u001b[0m\u001b[0m\n\u001b[1;32m----> 5\u001b[1;33m \u001b[1;32mprint\u001b[0m \u001b[1;34m\"radius:\"\u001b[0m\u001b[1;33m,\u001b[0m \u001b[0malgo\u001b[0m\u001b[1;33m.\u001b[0m\u001b[0mradius\u001b[0m\u001b[1;33m(\u001b[0m\u001b[0mnetwork\u001b[0m\u001b[1;33m)\u001b[0m\u001b[1;33m\u001b[0m\u001b[0m\n\u001b[0m\u001b[0;32m      6\u001b[0m \u001b[1;32mprint\u001b[0m \u001b[1;34m\"diameter:\"\u001b[0m\u001b[1;33m,\u001b[0m \u001b[0malgo\u001b[0m\u001b[1;33m.\u001b[0m\u001b[0mdiameter\u001b[0m\u001b[1;33m(\u001b[0m\u001b[0mnetwork\u001b[0m\u001b[1;33m)\u001b[0m\u001b[1;33m\u001b[0m\u001b[0m\n",
      "\u001b[1;32mC:\\Users\\rheem\\AppData\\Local\\Enthought\\Canopy\\User\\lib\\site-packages\\networkx\\algorithms\\distance_measures.pyc\u001b[0m in \u001b[0;36mradius\u001b[1;34m(G, e)\u001b[0m\n\u001b[0;32m    141\u001b[0m     \"\"\"\n\u001b[0;32m    142\u001b[0m     \u001b[1;32mif\u001b[0m \u001b[0me\u001b[0m \u001b[1;32mis\u001b[0m \u001b[0mNone\u001b[0m\u001b[1;33m:\u001b[0m\u001b[1;33m\u001b[0m\u001b[0m\n\u001b[1;32m--> 143\u001b[1;33m         \u001b[0me\u001b[0m\u001b[1;33m=\u001b[0m\u001b[0meccentricity\u001b[0m\u001b[1;33m(\u001b[0m\u001b[0mG\u001b[0m\u001b[1;33m)\u001b[0m\u001b[1;33m\u001b[0m\u001b[0m\n\u001b[0m\u001b[0;32m    144\u001b[0m     \u001b[1;32mreturn\u001b[0m \u001b[0mmin\u001b[0m\u001b[1;33m(\u001b[0m\u001b[0me\u001b[0m\u001b[1;33m.\u001b[0m\u001b[0mvalues\u001b[0m\u001b[1;33m(\u001b[0m\u001b[1;33m)\u001b[0m\u001b[1;33m)\u001b[0m\u001b[1;33m\u001b[0m\u001b[0m\n\u001b[0;32m    145\u001b[0m \u001b[1;33m\u001b[0m\u001b[0m\n",
      "\u001b[1;32mC:\\Users\\rheem\\AppData\\Local\\Enthought\\Canopy\\User\\lib\\site-packages\\networkx\\algorithms\\distance_measures.pyc\u001b[0m in \u001b[0;36meccentricity\u001b[1;34m(G, v, sp)\u001b[0m\n\u001b[0;32m     61\u001b[0m         \u001b[1;32mif\u001b[0m \u001b[0mL\u001b[0m \u001b[1;33m!=\u001b[0m \u001b[0morder\u001b[0m\u001b[1;33m:\u001b[0m\u001b[1;33m\u001b[0m\u001b[0m\n\u001b[0;32m     62\u001b[0m             \u001b[0mmsg\u001b[0m \u001b[1;33m=\u001b[0m \u001b[1;34m\"Graph not connected: infinite path length\"\u001b[0m\u001b[1;33m\u001b[0m\u001b[0m\n\u001b[1;32m---> 63\u001b[1;33m             \u001b[1;32mraise\u001b[0m \u001b[0mnetworkx\u001b[0m\u001b[1;33m.\u001b[0m\u001b[0mNetworkXError\u001b[0m\u001b[1;33m(\u001b[0m\u001b[0mmsg\u001b[0m\u001b[1;33m)\u001b[0m\u001b[1;33m\u001b[0m\u001b[0m\n\u001b[0m\u001b[0;32m     64\u001b[0m \u001b[1;33m\u001b[0m\u001b[0m\n\u001b[0;32m     65\u001b[0m         \u001b[0me\u001b[0m\u001b[1;33m[\u001b[0m\u001b[0mn\u001b[0m\u001b[1;33m]\u001b[0m\u001b[1;33m=\u001b[0m\u001b[0mmax\u001b[0m\u001b[1;33m(\u001b[0m\u001b[0mlength\u001b[0m\u001b[1;33m.\u001b[0m\u001b[0mvalues\u001b[0m\u001b[1;33m(\u001b[0m\u001b[1;33m)\u001b[0m\u001b[1;33m)\u001b[0m\u001b[1;33m\u001b[0m\u001b[0m\n",
      "\u001b[1;31mNetworkXError\u001b[0m: Graph not connected: infinite path length"
     ]
    }
   ],
   "source": [
    "unfinetwork = network.to_undirected()\n",
    "print \"number of nodes:\", network.number_of_nodes()\n",
    "print \"number of edges:\", network.number_of_edges()\n",
    "print \"average clustering coefficient:\", nx.average_clustering(unfinetwork)\n",
    "print \"radius:\", algo.radius(network)\n",
    "print \"diameter:\", algo.diameter(network)"
   ]
  },
  {
   "cell_type": "code",
   "execution_count": 55,
   "metadata": {
    "collapsed": false
   },
   "outputs": [
    {
     "name": "stdout",
     "output_type": "stream",
     "text": [
      "number of SCC node: 982\n",
      "number of SCC node: 18069\n"
     ]
    }
   ],
   "source": [
    "largest_scc = max(nx.strongly_connected_component_subgraphs(network), key=len)\n",
    "print \"number of SCC node:\", len(largest_scc.nodes())\n",
    "print \"number of SCC node:\", len(largest_scc.edges())"
   ]
  },
  {
   "cell_type": "code",
   "execution_count": 56,
   "metadata": {
    "collapsed": false
   },
   "outputs": [
    {
     "name": "stdout",
     "output_type": "stream",
     "text": [
      "number of WCC node: 1357\n",
      "number of WCC node: 21045\n"
     ]
    }
   ],
   "source": [
    "largest_wcc = max(nx.weakly_connected_component_subgraphs(network), key=len)\n",
    "print \"number of WCC node:\", len(largest_wcc.nodes())\n",
    "print \"number of WCC node:\", len(largest_wcc.edges())"
   ]
  },
  {
   "cell_type": "code",
   "execution_count": 71,
   "metadata": {
    "collapsed": false
   },
   "outputs": [
    {
     "data": {
      "text/plain": [
       "{14876672: 0.003825136612021858,\n",
       " 244719623: 0.0049180327868852455,\n",
       " 93904918: 0.001639344262295082,\n",
       " 229425177: 0.054098360655737705,\n",
       " 211763229: 0.006010928961748634,\n",
       " 9035822: 0.001092896174863388,\n",
       " 333709376: 0.025683060109289616,\n",
       " 8069202: 0.000546448087431694,\n",
       " 1048661: 0.04316939890710383,\n",
       " 19415126: 0.024043715846994537,\n",
       " 9142362: 0.008743169398907104,\n",
       " 163274846: 0.0049180327868852455,\n",
       " 16889060: 0.02459016393442623,\n",
       " 72818790: 0.06939890710382514,\n",
       " 33998183: 0.015300546448087432,\n",
       " 243227325: 0.02185792349726776,\n",
       " 16801904: 0.004371584699453552,\n",
       " 15122553: 0.003278688524590164,\n",
       " 395395198: 0.004371584699453552,\n",
       " 246456451: 0.003278688524590164,\n",
       " 6095832: 0.013114754098360656,\n",
       " 37699718: 0.034972677595628415,\n",
       " 390455433: 0.00546448087431694,\n",
       " 301695120: 0.022950819672131147,\n",
       " 5800082: 0.001092896174863388,\n",
       " 16908436: 0.02622950819672131,\n",
       " 42164376: 0.013114754098360656,\n",
       " 802970: 0.000546448087431694,\n",
       " 15343773: 0.02896174863387978,\n",
       " 187744415: 0.015300546448087432,\n",
       " 123371682: 0.08087431693989071,\n",
       " 4620451: 0.05683060109289617,\n",
       " 316604582: 0.012021857923497269,\n",
       " 26173611: 0.00819672131147541,\n",
       " 70492333: 0.041530054644808745,\n",
       " 167010482: 0.02185792349726776,\n",
       " 107225267: 0.012568306010928962,\n",
       " 53878981: 0.00546448087431694,\n",
       " 337952973: 0.041530054644808745,\n",
       " 16318671: 0.003278688524590164,\n",
       " 25592034: 0.002185792349726776,\n",
       " 469024995: 0.015300546448087432,\n",
       " 17870886: 0.024043715846994537,\n",
       " 378546078: 0.007650273224043716,\n",
       " 59588845: 0.01912568306010929,\n",
       " 64209144: 0.000546448087431694,\n",
       " 4219131: 0.021311475409836064,\n",
       " 34455805: 0.0049180327868852455,\n",
       " 33276161: 0.01092896174863388,\n",
       " 292970754: 0.025136612021857924,\n",
       " 13787402: 0.020765027322404372,\n",
       " 18186507: 0.001092896174863388,\n",
       " 42950930: 0.03333333333333333,\n",
       " 16736535: 0.009836065573770491,\n",
       " 200884513: 0.0049180327868852455,\n",
       " 259842341: 0.09672131147540984,\n",
       " 326844718: 0.006010928961748634,\n",
       " 274153775: 0.09508196721311475,\n",
       " 14106930: 0.0273224043715847,\n",
       " 51274038: 0.007650273224043716,\n",
       " 778551: 0.000546448087431694,\n",
       " 10641722: 0.001639344262295082,\n",
       " 9568572: 0.001639344262295082,\n",
       " 340402493: 0.002185792349726776,\n",
       " 17105214: 0.03989071038251366,\n",
       " 2916671: 0.011475409836065573,\n",
       " 2752851: 0.003278688524590164,\n",
       " 320987486: 0.007103825136612021,\n",
       " 188809568: 0.0049180327868852455,\n",
       " 99066209: 0.01092896174863388,\n",
       " 51421542: 0.03169398907103825,\n",
       " 290660713: 0.022404371584699455,\n",
       " 83943787: 0.09726775956284153,\n",
       " 164438382: 0.01092896174863388,\n",
       " 811377: 0.001092896174863388,\n",
       " 17342842: 0.020218579234972677,\n",
       " 53477757: 0.003825136612021858,\n",
       " 23691649: 0.007103825136612021,\n",
       " 36700554: 0.018579234972677595,\n",
       " 277307787: 0.006010928961748634,\n",
       " 28297965: 0.04371584699453552,\n",
       " 277889424: 0.006557377049180328,\n",
       " 1294741: 0.03114754098360656,\n",
       " 30204310: 0.001639344262295082,\n",
       " 222090651: 0.012021857923497269,\n",
       " 110756260: 0.022950819672131147,\n",
       " 126099878: 0.03224043715846994,\n",
       " 2367911: 0.05628415300546448,\n",
       " 465838507: 0.017486338797814208,\n",
       " 282206645: 0.024043715846994537,\n",
       " 116498875: 0.03551912568306011,\n",
       " 35399002: 0.024043715846994537,\n",
       " 152388029: 0.027868852459016394,\n",
       " 131170751: 0.001092896174863388,\n",
       " 4841921: 0.007650273224043716,\n",
       " 415711683: 0.011475409836065573,\n",
       " 67838407: 0.03169398907103825,\n",
       " 61391304: 0.002185792349726776,\n",
       " 213777144: 0.028415300546448086,\n",
       " 18194898: 0.019672131147540982,\n",
       " 19325406: 0.012021857923497269,\n",
       " 9695312: 0.006557377049180328,\n",
       " 44409315: 0.04207650273224044,\n",
       " 16507381: 0.0049180327868852455,\n",
       " 309633527: 0.000546448087431694,\n",
       " 439788025: 0.08087431693989071,\n",
       " 19802879: 0.05191256830601093,\n",
       " 236143101: 0.03169398907103825,\n",
       " 43115008: 0.007650273224043716,\n",
       " 14303746: 0.029508196721311476,\n",
       " 32309773: 0.002185792349726776,\n",
       " 22544911: 0.000546448087431694,\n",
       " 375759378: 0.011475409836065573,\n",
       " 438460947: 0.02622950819672131,\n",
       " 1049111: 0.028415300546448086,\n",
       " 100844057: 0.004371584699453552,\n",
       " 262775327: 0.04590163934426229,\n",
       " 339943969: 0.04426229508196721,\n",
       " 45957677: 0.003278688524590164,\n",
       " 16106034: 0.001092896174863388,\n",
       " 36045367: 0.03551912568306011,\n",
       " 22200888: 0.02622950819672131,\n",
       " 16302651: 0.009836065573770491,\n",
       " 19489341: 0.006557377049180328,\n",
       " 109740608: 0.03278688524590164,\n",
       " 17064514: 0.000546448087431694,\n",
       " 9503302: 0.011475409836065573,\n",
       " 17293897: 0.006010928961748634,\n",
       " 434725454: 0.009289617486338797,\n",
       " 11067992: 0.001639344262295082,\n",
       " 71606873: 0.012021857923497269,\n",
       " 114729566: 0.024043715846994537,\n",
       " 41648744: 0.003278688524590164,\n",
       " 352035443: 0.013114754098360656,\n",
       " 276308596: 0.07486338797814207,\n",
       " 9921142: 0.04207650273224044,\n",
       " 14693823: 0.020218579234972677,\n",
       " 102277764: 0.001639344262295082,\n",
       " 155976326: 0.026775956284153007,\n",
       " 340329096: 0.003278688524590164,\n",
       " 538698377: 0.003278688524590164,\n",
       " 194347664: 0.013114754098360656,\n",
       " 191111826: 0.03169398907103825,\n",
       " 306373272: 0.000546448087431694,\n",
       " 164422299: 0.02459016393442623,\n",
       " 40968863: 0.015300546448087432,\n",
       " 86221475: 0.05737704918032787,\n",
       " 128721580: 0.001639344262295082,\n",
       " 24044209: 0.003825136612021858,\n",
       " 131613362: 0.06721311475409836,\n",
       " 320463544: 0.011475409836065573,\n",
       " 107872957: 0.01366120218579235,\n",
       " 40657605: 0.001639344262295082,\n",
       " 18720204: 0.019672131147540982,\n",
       " 375317198: 0.03879781420765027,\n",
       " 15775181: 0.014207650273224043,\n",
       " 7668432: 0.004371584699453552,\n",
       " 23962323: 0.03551912568306011,\n",
       " 5653212: 0.033879781420765025,\n",
       " 529007327: 0.03825136612021858,\n",
       " 26829539: 0.007650273224043716,\n",
       " 21611239: 0.022404371584699455,\n",
       " 12321512: 0.041530054644808745,\n",
       " 18825961: 0.007103825136612021,\n",
       " 98976495: 0.0049180327868852455,\n",
       " 79004401: 0.00273224043715847,\n",
       " 377537266: 0.003825136612021858,\n",
       " 88851192: 0.0273224043715847,\n",
       " 1385211: 0.03825136612021858,\n",
       " 26280712: 0.04207650273224044,\n",
       " 6480652: 0.00546448087431694,\n",
       " 126042901: 0.02185792349726776,\n",
       " 15002416: 0.01912568306010929,\n",
       " 52216611: 0.015846994535519125,\n",
       " 6480682: 0.00546448087431694,\n",
       " 58598187: 0.000546448087431694,\n",
       " 198591276: 0.00546448087431694,\n",
       " 15237935: 0.014754098360655738,\n",
       " 342221618: 0.001092896174863388,\n",
       " 225444667: 0.0546448087431694,\n",
       " 320242505: 0.00273224043715847,\n",
       " 19153742: 0.004371584699453552,\n",
       " 204317520: 0.08633879781420765,\n",
       " 14091091: 0.028415300546448086,\n",
       " 21734241: 0.011475409836065573,\n",
       " 19358562: 0.06994535519125683,\n",
       " 40100707: 0.01092896174863388,\n",
       " 26649453: 0.01092896174863388,\n",
       " 26534772: 0.003278688524590164,\n",
       " 15999863: 0.009836065573770491,\n",
       " 26985345: 0.025683060109289616,\n",
       " 114115460: 0.03989071038251366,\n",
       " 115221382: 0.020218579234972677,\n",
       " 795536: 0.007650273224043716,\n",
       " 24109979: 0.003278688524590164,\n",
       " 44114848: 0.006010928961748634,\n",
       " 121258930: 0.03442622950819672,\n",
       " 21808052: 0.00819672131147541,\n",
       " 21742517: 0.011475409836065573,\n",
       " 210731960: 0.026775956284153007,\n",
       " 15863699: 0.003825136612021858,\n",
       " 16573941: 0.000546448087431694,\n",
       " 6398912: 0.001092896174863388,\n",
       " 1065921: 0.046994535519125684,\n",
       " 72680406: 0.016939890710382512,\n",
       " 20464600: 0.048633879781420766,\n",
       " 11928542: 0.014754098360655738,\n",
       " 13763552: 0.015846994535519125,\n",
       " 104203233: 0.022950819672131147,\n",
       " 17564647: 0.06557377049180328,\n",
       " 21840874: 0.026775956284153007,\n",
       " 265077741: 0.034972677595628415,\n",
       " 20235246: 0.033879781420765025,\n",
       " 14050306: 0.00546448087431694,\n",
       " 14410756: 0.003825136612021858,\n",
       " 88097807: 0.04426229508196721,\n",
       " 191620115: 0.011475409836065573,\n",
       " 19383317: 0.017486338797814208,\n",
       " 14484504: 0.007650273224043716,\n",
       " 56042522: 0.010382513661202186,\n",
       " 69592091: 0.0814207650273224,\n",
       " 93905958: 0.025136612021857924,\n",
       " 477094958: 0.006557377049180328,\n",
       " 344334227: 0.03333333333333333,\n",
       " 16245822: 0.015846994535519125,\n",
       " 104989762: 0.026775956284153007,\n",
       " 257549385: 0.006010928961748634,\n",
       " 240944206: 0.009836065573770491,\n",
       " 226165839: 0.009289617486338797,\n",
       " 6194262: 0.022404371584699455,\n",
       " 23839835: 0.014754098360655738,\n",
       " 61228125: 0.00819672131147541,\n",
       " 84624486: 0.001639344262295082,\n",
       " 14165096: 0.03169398907103825,\n",
       " 53047484: 0.053551912568306013,\n",
       " 3359851: 0.13060109289617486,\n",
       " 68379756: 0.008743169398907104,\n",
       " 189875309: 0.020218579234972677,\n",
       " 268788852: 0.009289617486338797,\n",
       " 212018296: 0.01366120218579235,\n",
       " 16876667: 0.023497267759562842,\n",
       " 18498684: 0.02185792349726776,\n",
       " 35611780: 0.00273224043715847,\n",
       " 333161611: 0.01092896174863388,\n",
       " 132249368: 0.012568306010928962,\n",
       " 16663695: 0.00273224043715847,\n",
       " 236184723: 0.07049180327868852,\n",
       " 7079062: 0.036065573770491806,\n",
       " 170460311: 0.020218579234972677,\n",
       " 10388632: 0.000546448087431694,\n",
       " 451331227: 0.009289617486338797,\n",
       " 15484063: 0.05191256830601093,\n",
       " 110331040: 0.003278688524590164,\n",
       " 207594668: 0.004371584699453552,\n",
       " 33612973: 0.015846994535519125,\n",
       " 113058991: 0.036065573770491806,\n",
       " 133055665: 0.05792349726775956,\n",
       " 216288753: 0.001639344262295082,\n",
       " 25904310: 0.007650273224043716,\n",
       " 16799897: 0.030054644808743168,\n",
       " 21308602: 0.003278688524590164,\n",
       " 27772095: 0.026775956284153007,\n",
       " 107381955: 0.007650273224043716,\n",
       " 111518916: 0.011475409836065573,\n",
       " 321029318: 0.00819672131147541,\n",
       " 72156360: 0.019672131147540982,\n",
       " 111215825: 0.004371584699453552,\n",
       " 156550354: 0.02896174863387978,\n",
       " 17859804: 0.021311475409836064,\n",
       " 16565797: 0.001639344262295082,\n",
       " 114885858: 0.002185792349726776,\n",
       " 149538028: 0.08087431693989071,\n",
       " 368018677: 0.002185792349726776,\n",
       " 328158079: 0.015300546448087432,\n",
       " 32032000: 0.05792349726775956,\n",
       " 820485: 0.001639344262295082,\n",
       " 348611854: 0.015846994535519125,\n",
       " 243836182: 0.015300546448087432,\n",
       " 20661527: 0.04316939890710383,\n",
       " 16287001: 0.020765027322404372,\n",
       " 24585498: 0.02459016393442623,\n",
       " 28583197: 0.02185792349726776,\n",
       " 19653925: 0.05191256830601093,\n",
       " 16098603: 0.03825136612021858,\n",
       " 131663151: 0.01092896174863388,\n",
       " 43640117: 0.012568306010928962,\n",
       " 8944162: 0.001092896174863388,\n",
       " 241214783: 0.018579234972677595,\n",
       " 15222083: 0.02459016393442623,\n",
       " 45843783: 0.020218579234972677,\n",
       " 156411211: 0.001639344262295082,\n",
       " 6243662: 0.003825136612021858,\n",
       " 17743: 0.010382513661202186,\n",
       " 247031120: 0.01912568306010929,\n",
       " 421412483: 0.022950819672131147,\n",
       " 7423322: 0.004371584699453552,\n",
       " 110658910: 0.00273224043715847,\n",
       " 16967011: 0.006010928961748634,\n",
       " 23831909: 0.007103825136612021,\n",
       " 6350182: 0.001092896174863388,\n",
       " 27077521: 0.023497267759562842,\n",
       " 98567547: 0.015300546448087432,\n",
       " 1049981: 0.026775956284153007,\n",
       " 93906304: 0.006010928961748634,\n",
       " 16139649: 0.02185792349726776,\n",
       " 58836363: 0.014754098360655738,\n",
       " 49227164: 0.009289617486338797,\n",
       " 23930272: 0.009836065573770491,\n",
       " 166905249: 0.027868852459016394,\n",
       " 1975721: 0.021311475409836064,\n",
       " 35415466: 0.03551912568306011,\n",
       " 18444530: 0.018579234972677595,\n",
       " 309765553: 0.006557377049180328,\n",
       " 27633075: 0.0715846994535519,\n",
       " 221988282: 0.00273224043715847,\n",
       " 46073276: 0.027868852459016394,\n",
       " 383493565: 0.001639344262295082,\n",
       " 5516192: 0.02459016393442623,\n",
       " 63808966: 0.025683060109289616,\n",
       " 34170312: 0.014207650273224043,\n",
       " 423904716: 0.000546448087431694,\n",
       " 57828817: 0.01092896174863388,\n",
       " 407397848: 0.001639344262295082,\n",
       " 60101131: 0.008743169398907104,\n",
       " 115525090: 0.012568306010928962,\n",
       " 146867687: 0.03224043715846994,\n",
       " 247637481: 0.000546448087431694,\n",
       " 237676010: 0.009289617486338797,\n",
       " 54298095: 0.004371584699453552,\n",
       " 14796276: 0.003278688524590164,\n",
       " 164016382: 0.000546448087431694,\n",
       " 44860919: 0.036065573770491806,\n",
       " 88974843: 0.004371584699453552,\n",
       " 17794560: 0.003278688524590164,\n",
       " 14681605: 0.001092896174863388,\n",
       " 2883841: 0.0049180327868852455,\n",
       " 16909832: 0.04371584699453552,\n",
       " 86337034: 0.003825136612021858,\n",
       " 394216985: 0.017486338797814208,\n",
       " 467658266: 0.03169398907103825,\n",
       " 28149277: 0.009289617486338797,\n",
       " 5678622: 0.016939890710382512,\n",
       " 16786977: 0.020218579234972677,\n",
       " 30869029: 0.003278688524590164,\n",
       " 17983020: 0.000546448087431694,\n",
       " 172959279: 0.0366120218579235,\n",
       " 23799349: 0.020218579234972677,\n",
       " 214328887: 0.07923497267759563,\n",
       " 437806648: 0.0049180327868852455,\n",
       " 93070905: 0.001092896174863388,\n",
       " 131319392: 0.002185792349726776,\n",
       " 103351876: 0.011475409836065573,\n",
       " 59557446: 0.006557377049180328,\n",
       " 236575672: 0.00546448087431694,\n",
       " 250340951: 0.029508196721311476,\n",
       " 378291801: 0.011475409836065573,\n",
       " 142001754: 0.014754098360655738,\n",
       " 332375645: 0.011475409836065573,\n",
       " 32302688: 0.022950819672131147,\n",
       " 63145571: 0.00819672131147541,\n",
       " 194889318: 0.003825136612021858,\n",
       " 14647570: 0.06612021857923497,\n",
       " 102434415: 0.001639344262295082,\n",
       " 260769396: 0.01639344262295082,\n",
       " 41494136: 0.014754098360655738,\n",
       " 22562425: 0.002185792349726776,\n",
       " 215787132: 0.003825136612021858,\n",
       " 278062722: 0.021311475409836064,\n",
       " 248882821: 0.001639344262295082,\n",
       " 10733192: 0.003278688524590164,\n",
       " 75974281: 0.003278688524590164,\n",
       " 8963722: 0.01912568306010929,\n",
       " 134940306: 0.0912568306010929,\n",
       " 22636185: 0.003278688524590164,\n",
       " 25970331: 0.059562841530054644,\n",
       " 22857385: 0.03278688524590164,\n",
       " 93750955: 0.006557377049180328,\n",
       " 557196973: 0.001092896174863388,\n",
       " 7095992: 0.001092896174863388,\n",
       " 20055740: 0.011475409836065573,\n",
       " 21710527: 0.03114754098360656,\n",
       " 185910976: 0.02622950819672131,\n",
       " 55822030: 0.007103825136612021,\n",
       " 5490392: 0.00273224043715847,\n",
       " 55019225: 0.003278688524590164,\n",
       " 69248730: 0.030601092896174863,\n",
       " 22169313: 0.006010928961748634,\n",
       " 244082406: 0.016939890710382512,\n",
       " 342943472: 0.015300546448087432,\n",
       " 15460081: 0.03278688524590164,\n",
       " 87541152: 0.014754098360655738,\n",
       " 294430454: 0.05683060109289617,\n",
       " 135268094: 0.008743169398907104,\n",
       " 334735103: 0.028415300546448086,\n",
       " 323405569: 0.004371584699453552,\n",
       " 11167502: 0.00546448087431694,\n",
       " 22841103: 0.0273224043715847,\n",
       " 69314323: 0.01912568306010929,\n",
       " 35825428: 0.006557377049180328,\n",
       " 120252183: 0.008743169398907104,\n",
       " 74229529: 0.00273224043715847,\n",
       " 446023451: 0.03879781420765027,\n",
       " 19916572: 0.013114754098360656,\n",
       " 89728799: 0.00273224043715847,\n",
       " 39348006: 0.00273224043715847,\n",
       " 50374439: 0.001639344262295082,\n",
       " 106637102: 0.000546448087431694,\n",
       " 222411742: 0.02459016393442623,\n",
       " 378603319: 0.003278688524590164,\n",
       " 18130749: 0.01639344262295082,\n",
       " 274663230: 0.01639344262295082,\n",
       " 1435461: 0.03551912568306011,\n",
       " 5736262: 0.00273224043715847,\n",
       " 250849104: 0.02185792349726776,\n",
       " 269485905: 0.011475409836065573,\n",
       " 681813: 0.012568306010928962,\n",
       " 112939321: 0.05901639344262295,\n",
       " 22021978: 0.018032786885245903,\n",
       " 2271071: 0.004371584699453552,\n",
       " 82724710: 0.012568306010928962,\n",
       " 19933035: 0.02896174863387978,\n",
       " 73975665: 0.09344262295081968,\n",
       " 19965811: 0.030601092896174863,\n",
       " 8005492: 0.025683060109289616,\n",
       " 52758395: 0.015846994535519125,\n",
       " 548539370: 0.03442622950819672,\n",
       " 309782398: 0.003825136612021858,\n",
       " 107145088: 0.013114754098360656,\n",
       " 279390084: 0.009289617486338797,\n",
       " 146556805: 0.007650273224043716,\n",
       " 65360193: 0.010382513661202186,\n",
       " 84043660: 0.017486338797814208,\n",
       " 148497957: 0.024043715846994537,\n",
       " 138725262: 0.02622950819672131,\n",
       " 24160143: 0.002185792349726776,\n",
       " 232294292: 0.018579234972677595,\n",
       " 116770718: 0.000546448087431694,\n",
       " 285312927: 0.041530054644808745,\n",
       " 25012130: 0.013114754098360656,\n",
       " 66561957: 0.011475409836065573,\n",
       " 20637608: 0.05792349726775956,\n",
       " 91408302: 0.00546448087431694,\n",
       " 104540083: 0.00819672131147541,\n",
       " 19384258: 0.025136612021857924,\n",
       " 9562052: 0.004371584699453552,\n",
       " 308324295: 0.04480874316939891,\n",
       " 2811851: 0.017486338797814208,\n",
       " 14190551: 0.023497267759562842,\n",
       " 6236122: 0.006557377049180328,\n",
       " 10758112: 0.001092896174863388,\n",
       " 15665127: 0.03825136612021858,\n",
       " 31401966: 0.009836065573770491,\n",
       " 15271920: 0.0273224043715847,\n",
       " 19548146: 0.001092896174863388,\n",
       " 17434613: 0.022950819672131147,\n",
       " 28125177: 0.006010928961748634,\n",
       " 195897346: 0.04644808743169399,\n",
       " 243058696: 0.033879781420765025,\n",
       " 23742474: 0.0049180327868852455,\n",
       " 14903310: 0.02459016393442623,\n",
       " 306128912: 0.018579234972677595,\n",
       " 460212241: 0.002185792349726776,\n",
       " 49104918: 0.01366120218579235,\n",
       " 14239780: 0.010382513661202186,\n",
       " 23865382: 0.009836065573770491,\n",
       " 17803303: 0.03278688524590164,\n",
       " 277375017: 0.011475409836065573,\n",
       " 1476651: 0.027868852459016394,\n",
       " 19490867: 0.001092896174863388,\n",
       " 15165493: 0.039344262295081964,\n",
       " 31246395: 0.007650273224043716,\n",
       " 29911100: 0.03879781420765027,\n",
       " 306472866: 0.046994535519125684,\n",
       " 32557121: 0.000546448087431694,\n",
       " 206923844: 0.07377049180327869,\n",
       " 221636679: 0.03442622950819672,\n",
       " 25495625: 0.01639344262295082,\n",
       " 23390284: 0.009289617486338797,\n",
       " 146155608: 0.039344262295081964,\n",
       " 157829215: 0.0912568306010929,\n",
       " 190752867: 0.002185792349726776,\n",
       " 77645932: 0.001639344262295082,\n",
       " 10350: 0.04207650273224044,\n",
       " 374949999: 0.010382513661202186,\n",
       " 66021490: 0.040437158469945354,\n",
       " 17868918: 0.06557377049180328,\n",
       " 80324287: 0.03278688524590164,\n",
       " 26978430: 0.012021857923497269,\n",
       " 243370113: 0.015846994535519125,\n",
       " 281159810: 0.03989071038251366,\n",
       " 103598216: 0.07650273224043716,\n",
       " 259074185: 0.02459016393442623,\n",
       " 11487372: 0.001092896174863388,\n",
       " 4556941: 0.003278688524590164,\n",
       " 8956052: 0.027868852459016394,\n",
       " 248883350: 0.06666666666666667,\n",
       " 1403031: 0.02459016393442623,\n",
       " 24742040: 0.04972677595628415,\n",
       " 160237722: 0.05573770491803279,\n",
       " 7899292: 0.003825136612021858,\n",
       " 275081385: 0.001092896174863388,\n",
       " 375228586: 0.001639344262295082,\n",
       " 25995437: 0.016939890710382512,\n",
       " 59877557: 0.04371584699453552,\n",
       " 527526077: 0.007650273224043716,\n",
       " 124528830: 0.08087431693989071,\n",
       " 7801032: 0.0453551912568306,\n",
       " 76572873: 0.003825136612021858,\n",
       " 49391820: 0.02622950819672131,\n",
       " 15575251: 0.03442622950819672,\n",
       " 179644633: 0.006557377049180328,\n",
       " 14311802: 0.026775956284153007,\n",
       " 52422878: 0.002185792349726776,\n",
       " 29206754: 0.00273224043715847,\n",
       " 280725732: 0.02622950819672131,\n",
       " 1452261: 0.040437158469945354,\n",
       " 813286: 0.034972677595628415,\n",
       " 14551276: 0.02185792349726776,\n",
       " 18344173: 0.001639344262295082,\n",
       " 105259389: 0.004371584699453552,\n",
       " 100378864: 0.015846994535519125,\n",
       " 31353077: 0.029508196721311476,\n",
       " 15154217: 0.040437158469945354,\n",
       " 76966145: 0.002185792349726776,\n",
       " 104155395: 0.009836065573770491,\n",
       " 40364293: 0.000546448087431694,\n",
       " 487367041: 0.006557377049180328,\n",
       " 121637129: 0.013114754098360656,\n",
       " 239257866: 0.002185792349726776,\n",
       " 27855118: 0.040437158469945354,\n",
       " 14944532: 0.010382513661202186,\n",
       " 272173354: 0.004371584699453552,\n",
       " 19695915: 0.003825136612021858,\n",
       " 258681133: 0.000546448087431694,\n",
       " 157652825: 0.015300546448087432,\n",
       " 252291383: 0.002185792349726776,\n",
       " 14936377: 0.03551912568306011,\n",
       " 12044602: 0.007650273224043716,\n",
       " 300599613: 0.036065573770491806,\n",
       " 465973: 0.015300546448087432,\n",
       " 109308227: 0.000546448087431694,\n",
       " 9955652: 0.013114754098360656,\n",
       " 16503181: 0.007650273224043716,\n",
       " 126470482: 0.001092896174863388,\n",
       " 40208725: 0.001639344262295082,\n",
       " 23152989: 0.001639344262295082,\n",
       " 9275742: 0.00546448087431694,\n",
       " 523340129: 0.00273224043715847,\n",
       " 1534321: 0.00273224043715847,\n",
       " 16877939: 0.011475409836065573,\n",
       " 52488565: 0.01366120218579235,\n",
       " 115485051: 0.003825136612021858,\n",
       " 1034621: 0.00273224043715847,\n",
       " 16589206: 0.007103825136612021,\n",
       " 205195655: 0.0273224043715847,\n",
       " 66652552: 0.010382513661202186,\n",
       " 495274384: 0.001092896174863388,\n",
       " 5450132: 0.00273224043715847,\n",
       " 322603418: 0.001639344262295082,\n",
       " 59378077: 0.001092896174863388,\n",
       " 28846498: 0.020218579234972677,\n",
       " 6572452: 0.00819672131147541,\n",
       " 22440364: 0.026775956284153007,\n",
       " 20621747: 0.006010928961748634,\n",
       " 61598133: 0.05737704918032787,\n",
       " 197134784: 0.003278688524590164,\n",
       " 131926467: 0.011475409836065573,\n",
       " 17861062: 0.002185792349726776,\n",
       " 22784458: 0.01639344262295082,\n",
       " 25512395: 0.022950819672131147,\n",
       " 21891535: 0.001639344262295082,\n",
       " 406628822: 0.05683060109289617,\n",
       " 5442012: 0.07540983606557378,\n",
       " 59525600: 0.001092896174863388,\n",
       " 310233571: 0.041530054644808745,\n",
       " 158419434: 0.0907103825136612,\n",
       " 156436972: 0.0049180327868852455,\n",
       " 17865810: 0.001092896174863388,\n",
       " 283306479: 0.033879781420765025,\n",
       " 23235056: 0.003825136612021858,\n",
       " 404376053: 0.025683060109289616,\n",
       " 101362168: 0.014207650273224043,\n",
       " 411273721: 0.03224043715846994,\n",
       " 71502330: 0.007650273224043716,\n",
       " 19507713: 0.05191256830601093,\n",
       " 56768257: 0.006557377049180328,\n",
       " 6269452: 0.00273224043715847,\n",
       " 283306509: 0.017486338797814208,\n",
       " 46762510: 0.014207650273224043,\n",
       " 211614808: 0.06229508196721312,\n",
       " 73738774: 0.011475409836065573,\n",
       " 1468951: 0.03169398907103825,\n",
       " 5515802: 0.03715846994535519,\n",
       " 417622555: 0.014754098360655738,\n",
       " 203827751: 0.018579234972677595,\n",
       " 6752812: 0.02185792349726776,\n",
       " 31443503: 0.047540983606557376,\n",
       " 8088112: 0.060655737704918035,\n",
       " 1116721: 0.055191256830601096,\n",
       " 117017147: 0.016939890710382512,\n",
       " 304679484: 0.012021857923497269,\n",
       " 263907906: 0.001639344262295082,\n",
       " 18737731: 0.012568306010928962,\n",
       " 36686415: 0.004371584699453552,\n",
       " 451250774: 0.06612021857923497,\n",
       " 206416476: 0.025683060109289616,\n",
       " 28281437: 0.012021857923497269,\n",
       " 14862942: 0.003825136612021858,\n",
       " 23161445: 0.002185792349726776,\n",
       " 22558481: 0.00546448087431694,\n",
       " 118975084: 0.04316939890710383,\n",
       " 93031021: 0.012021857923497269,\n",
       " 347466350: 0.017486338797814208,\n",
       " 115313263: 0.048633879781420766,\n",
       " 67864340: 0.06393442622950819,\n",
       " 16009851: 0.058469945355191254,\n",
       " 200559228: 0.05136612021857923,\n",
       " 120867457: 0.000546448087431694,\n",
       " 22643137: 0.014207650273224043,\n",
       " 163629705: 0.001092896174863388,\n",
       " 39234189: 0.040983606557377046,\n",
       " 2705: 0.00819672131147541,\n",
       " 382560919: 0.040983606557377046,\n",
       " 756379: 0.024043715846994537,\n",
       " 437851930: 0.030054644808743168,\n",
       " 18819743: 0.015846994535519125,\n",
       " 53815969: 0.007650273224043716,\n",
       " 100174502: 0.003278688524590164,\n",
       " 20015787: 0.012021857923497269,\n",
       " 23440052: 0.033879781420765025,\n",
       " 60607157: 0.002185792349726776,\n",
       " 245394117: 0.0453551912568306,\n",
       " 33806113: 0.003825136612021858,\n",
       " 34507480: 0.029508196721311476,\n",
       " 15820660: 0.041530054644808745,\n",
       " 28420827: 0.001092896174863388,\n",
       " 45509346: 0.03825136612021858,\n",
       " 4893411: 0.022404371584699455,\n",
       " 285272807: 0.012021857923497269,\n",
       " 19663597: 0.003278688524590164,\n",
       " 20769532: 0.01092896174863388,\n",
       " 15002367: 0.003278688524590164,\n",
       " 158526208: 0.007103825136612021,\n",
       " 17902348: 0.017486338797814208,\n",
       " 258140947: 0.06721311475409836,\n",
       " 400689940: 0.041530054644808745,\n",
       " 250178329: 0.02896174863387978,\n",
       " 47041310: 0.000546448087431694,\n",
       " 1043241: 0.040983606557377046,\n",
       " 15428397: 0.01092896174863388,\n",
       " 74107696: 0.04480874316939891,\n",
       " 61336370: 0.007650273224043716,\n",
       " 101903164: 0.006557377049180328,\n",
       " 14412605: 0.015846994535519125,\n",
       " 219990849: 0.013114754098360656,\n",
       " 17738564: 0.00819672131147541,\n",
       " 238201669: 0.03715846994535519,\n",
       " 290769740: 0.006010928961748634,\n",
       " 6089552: 0.004371584699453552,\n",
       " 63941463: 0.007650273224043716,\n",
       " 58714972: 0.04480874316939891,\n",
       " 291670881: 0.012021857923497269,\n",
       " 352226153: 0.04972677595628415,\n",
       " 1715051: 0.001639344262295082,\n",
       " 35359596: 0.011475409836065573,\n",
       " 1002351: 0.022404371584699455,\n",
       " 16894839: 0.039344262295081964,\n",
       " 16264063: 0.01912568306010929,\n",
       " 88722311: 0.014754098360655738,\n",
       " 88476558: 0.008743169398907104,\n",
       " 298757008: 0.04316939890710383,\n",
       " 148081553: 0.01912568306010929,\n",
       " 37710752: 0.016939890710382512,\n",
       " 18746273: 0.007103825136612021,\n",
       " 20196258: 0.00273224043715847,\n",
       " 514550692: 0.006010928961748634,\n",
       " 260426661: 0.006557377049180328,\n",
       " 14912435: 0.011475409836065573,\n",
       " 14789563: 0.003278688524590164,\n",
       " 299715516: 0.020218579234972677,\n",
       " 28019653: 0.008743169398907104,\n",
       " 43289545: 0.000546448087431694,\n",
       " 378659319: 0.001639344262295082,\n",
       " 24185807: 0.008743169398907104,\n",
       " 2681811: 0.003825136612021858,\n",
       " 20057044: 0.007103825136612021,\n",
       " 118811608: 0.00819672131147541,\n",
       " 79817691: 0.004371584699453552,\n",
       " 22924257: 0.0049180327868852455,\n",
       " 238308325: 0.053551912568306013,\n",
       " 14085096: 0.01912568306010929,\n",
       " 254839786: 0.09344262295081968,\n",
       " 242289645: 0.001092896174863388,\n",
       " 40340464: 0.033879781420765025,\n",
       " 326659062: 0.03114754098360656,\n",
       " 16583672: 0.020765027322404372,\n",
       " 382823424: 0.003278688524590164,\n",
       " 339373057: 0.007650273224043716,\n",
       " 26053643: 0.001639344262295082,\n",
       " 146729999: 0.05683060109289617,\n",
       " 31067157: 0.046994535519125684,\n",
       " 269478935: 0.003825136612021858,\n",
       " 15989935: 0.00819672131147541,\n",
       " 55716894: 0.003825136612021858,\n",
       " 203623462: 0.012021857923497269,\n",
       " 231238695: 0.039344262295081964,\n",
       " 6581292: 0.03333333333333333,\n",
       " 17140787: 0.012021857923497269,\n",
       " 143838260: 0.03333333333333333,\n",
       " 234343491: 0.002185792349726776,\n",
       " 153226312: 0.10819672131147541,\n",
       " 814153: 0.004371584699453552,\n",
       " 197504076: 0.05901639344262295,\n",
       " 69373005: 0.01092896174863388,\n",
       " 468094034: 0.009289617486338797,\n",
       " 33852508: 0.020218579234972677,\n",
       " 43166813: 0.008743169398907104,\n",
       " 17910878: 0.00273224043715847,\n",
       " 20106337: 0.006010928961748634,\n",
       " 262802533: 0.03715846994535519,\n",
       " 207752295: 0.029508196721311476,\n",
       " 15862891: 0.028415300546448086,\n",
       " 166845078: 0.025136612021857924,\n",
       " 19311729: 0.01366120218579235,\n",
       " 299715714: 0.039344262295081964,\n",
       " 36113543: 0.03770491803278689,\n",
       " 3026061: 0.015846994535519125,\n",
       " 365014160: 0.020765027322404372,\n",
       " 15520280: 0.0546448087431694,\n",
       " 281635993: 0.018032786885245903,\n",
       " 1117341: 0.05027322404371585,\n",
       " 19221664: 0.008743169398907104,\n",
       " 224144546: 0.000546448087431694,\n",
       " 117533865: 0.009289617486338797,\n",
       " 335678635: 0.001092896174863388,\n",
       " 324201646: 0.0049180327868852455,\n",
       " 293850289: 0.001639344262295082,\n",
       " 95980722: 0.012021857923497269,\n",
       " 268479669: 0.020218579234972677,\n",
       " 60746953: 0.006010928961748634,\n",
       " 127305588: 0.006557377049180328,\n",
       " 20950208: 0.03114754098360656,\n",
       " 51162310: 0.020765027322404372,\n",
       " 19344585: 0.014207650273224043,\n",
       " 15666380: 0.06612021857923497,\n",
       " 25578701: 0.006010928961748634,\n",
       " 41692369: 0.00273224043715847,\n",
       " 145845459: 0.048633879781420766,\n",
       " 14503124: 0.02622950819672131,\n",
       " 23399646: 0.006010928961748634,\n",
       " 233248636: 0.03278688524590164,\n",
       " 16133363: 0.020765027322404372,\n",
       " 38718720: 0.010382513661202186,\n",
       " 191638793: 0.021311475409836064,\n",
       " 254610699: 0.008743169398907104,\n",
       " 405056781: 0.004371584699453552,\n",
       " 19049747: 0.03333333333333333,\n",
       " 117901353: 0.029508196721311476,\n",
       " 5410072: 0.012021857923497269,\n",
       " 24595743: 0.018579234972677595,\n",
       " 217550112: 0.003278688524590164,\n",
       " 454423088: 0.000546448087431694,\n",
       " 116550950: 0.02185792349726776,\n",
       " 540216621: 0.003825136612021858,\n",
       " 45333725: 0.008743169398907104,\n",
       " 16895295: 0.007650273224043716,\n",
       " 1183041: 0.05573770491803279,\n",
       " 143172151: 0.009289617486338797,\n",
       " 82406734: 0.003278688524590164,\n",
       " 25521487: 0.001639344262295082,\n",
       " 44436825: 0.02185792349726776,\n",
       " 233336165: 0.020218579234972677,\n",
       " 266464616: 0.024043715846994537,\n",
       " 259984745: 0.00273224043715847,\n",
       " 11627: 0.004371584699453552,\n",
       " 258490941: 0.003825136612021858,\n",
       " 7384432: 0.009836065573770491,\n",
       " 191737201: 0.001639344262295082,\n",
       " 105106802: 0.04426229508196721,\n",
       " 240405879: 0.003825136612021858,\n",
       " 14691709: 0.022950819672131147,\n",
       " 14683518: 0.013114754098360656,\n",
       " 101496725: 0.003278688524590164,\n",
       " 334720386: 0.0049180327868852455,\n",
       " 106786180: 0.002185792349726776,\n",
       " 15838599: 0.003278688524590164,\n",
       " 115395977: 0.020218579234972677,\n",
       " 24866186: 0.018579234972677595,\n",
       " 28478859: 0.030601092896174863,\n",
       " 233909647: 0.01092896174863388,\n",
       " 30690708: 0.00546448087431694,\n",
       " 116624797: 0.01092896174863388,\n",
       " 192023970: 0.014207650273224043,\n",
       " 21179815: 0.009289617486338797,\n",
       " 62901679: 0.00546448087431694,\n",
       " 447688115: 0.04426229508196721,\n",
       " 14110133: 0.003278688524590164,\n",
       " 169504184: 0.02459016393442623,\n",
       " 7081402: 0.06174863387978142,\n",
       " 225488317: 0.011475409836065573,\n",
       " 19766517: 0.05901639344262295,\n",
       " 373018050: 0.025683060109289616,\n",
       " 18959811: 0.00273224043715847,\n",
       " 82030021: 0.018579234972677595,\n",
       " 88501703: 0.03333333333333333,\n",
       " 7065032: 0.008743169398907104,\n",
       " 16747981: 0.003278688524590164,\n",
       " 323292633: 0.03715846994535519,\n",
       " 42380766: 0.011475409836065573,\n",
       " 260705759: 0.008743169398907104,\n",
       " 71273952: 0.012568306010928962,\n",
       " 90746337: 0.014207650273224043,\n",
       " 11259362: 0.024043715846994537,\n",
       " 399404516: 0.003825136612021858,\n",
       " 7712232: 0.007650273224043716,\n",
       " 15625713: 0.016939890710382512,\n",
       " 13176312: 0.02185792349726776,\n",
       " 520809979: 0.020765027322404372,\n",
       " 21982720: 0.0273224043715847,\n",
       " 1478151: 0.011475409836065573,\n",
       " 390811153: 0.006557377049180328,\n",
       " 276577539: 0.053005464480874315,\n",
       " 408060505: 0.014754098360655738,\n",
       " 54611487: 0.013114754098360656,\n",
       " 5885472: 0.01092896174863388,\n",
       " 17116707: 0.06284153005464481,\n",
       " 9817642: 0.009836065573770491,\n",
       " 40791597: 0.002185792349726776,\n",
       " 231796277: 0.007650273224043716,\n",
       " 18951737: 0.030601092896174863,\n",
       " 22638140: 0.014207650273224043,\n",
       " 102895166: 0.004371584699453552,\n",
       " 220368467: 0.05136612021857923,\n",
       " 222802532: 0.004371584699453552,\n",
       " 166080090: 0.007103825136612021,\n",
       " 47779423: 0.000546448087431694,\n",
       " 20106852: 0.023497267759562842,\n",
       " 273149543: 0.011475409836065573,\n",
       " 350072433: 0.0049180327868852455,\n",
       " 26553971: 0.003278688524590164,\n",
       " 349719041: 0.001092896174863388,\n",
       " 325054079: 0.006010928961748634,\n",
       " 14888584: 0.016939890710382512,\n",
       " 430313102: 0.039344262295081964,\n",
       " 382111375: 0.000546448087431694,\n",
       " 563031699: 0.004371584699453552,\n",
       " 288231953: 0.04426229508196721,\n",
       " 5066391: 0.003278688524590164,\n",
       " 21507738: 0.03278688524590164,\n",
       " 480595611: 0.014207650273224043,\n",
       " 7098022: 0.02896174863387978,\n",
       " 136130217: 0.002185792349726776,\n",
       " 350939079: 0.004371584699453552,\n",
       " 144040563: 0.0049180327868852455,\n",
       " 18009781: 0.016939890710382512,\n",
       " 39055030: 0.004371584699453552,\n",
       " 208105146: 0.003825136612021858,\n",
       " 24563388: 0.000546448087431694,\n",
       " 21581503: 0.04371584699453552,\n",
       " 83889856: 0.00819672131147541,\n",
       " 18501326: 0.03114754098360656,\n",
       " 236719823: 0.009836065573770491,\n",
       " 288452305: 0.00273224043715847,\n",
       " 363925204: 0.000546448087431694,\n",
       " 156176094: 0.018579234972677595,\n",
       " 17477343: 0.006010928961748634,\n",
       " 30486243: 0.01092896174863388,\n",
       " 21548772: 0.022404371584699455,\n",
       " 15473958: 0.03333333333333333,\n",
       " 382267114: 0.001092896174863388,\n",
       " 34270956: 0.0049180327868852455,\n",
       " 8187632: 0.000546448087431694,\n",
       " 25235187: 0.000546448087431694,\n",
       " 315338495: 0.04590163934426229,\n",
       " 19697415: 0.027868852459016394,\n",
       " 15888142: 0.002185792349726776,\n",
       " 37883682: 0.003278688524590164,\n",
       " 45862693: 0.04426229508196721,\n",
       " 90779436: 0.008743169398907104,\n",
       " 17567533: 0.07049180327868852,\n",
       " 116379446: 0.011475409836065573,\n",
       " 15519544: 0.018032786885245903,\n",
       " 5623612: 0.05191256830601093,\n",
       " 318336831: 0.012021857923497269,\n",
       " 26929220: 0.09180327868852459,\n",
       " 1478471: 0.022950819672131147,\n",
       " 23375688: 0.017486338797814208,\n",
       " 118902602: 0.024043715846994537,\n",
       " 526921548: 0.00273224043715847,\n",
       " 204140367: 0.07978142076502732,\n",
       " 18927441: 0.030054644808743168,\n",
       " 125120339: 0.03879781420765027,\n",
       " 48459607: 0.030054644808743168,\n",
       " 145608536: 0.014207650273224043,\n",
       " 13332922: 0.026775956284153007,\n",
       " 78106465: 0.000546448087431694,\n",
       " 7884642: 0.009836065573770491,\n",
       " 17780580: 0.01366120218579235,\n",
       " 70160230: 0.01366120218579235,\n",
       " 252882791: 0.003278688524590164,\n",
       " 41226089: 0.04371584699453552,\n",
       " 414248813: 0.00819672131147541,\n",
       " 83529586: 0.00273224043715847,\n",
       " 24871896: 0.04644808743169399,\n",
       " 127569781: 0.04590163934426229,\n",
       " 158283753: 0.009836065573770491,\n",
       " 17248121: 0.009289617486338797,\n",
       " 16583999: 0.013114754098360656,\n",
       " 318967677: 0.02622950819672131,\n",
       " 28184452: 0.016939890710382512,\n",
       " 21122950: 0.021311475409836064,\n",
       " 103509313: 0.001639344262295082,\n",
       " 61853583: 0.019672131147540982,\n",
       " 18370451: 0.003278688524590164,\n",
       " 18091925: 0.001639344262295082,\n",
       " 362286999: 0.01912568306010929,\n",
       " 42979224: 0.03114754098360656,\n",
       " 277139373: 0.03551912568306011,\n",
       " 14589257: 0.04371584699453552,\n",
       " 16150457: 0.01366120218579235,\n",
       " 273682368: 0.018032786885245903,\n",
       " 308522948: 0.01092896174863388,\n",
       " 43003845: 0.1185792349726776,\n",
       " 324546502: 0.010382513661202186,\n",
       " 110481357: 0.020218579234972677,\n",
       " 1118161: 0.025683060109289616,\n",
       " 17384099: 0.0453551912568306,\n",
       " 16363491: 0.03114754098360656,\n",
       " 19927012: 0.010382513661202186,\n",
       " 254054375: 0.001639344262295082,\n",
       " 5402612: 0.00546448087431694,\n",
       " 29118453: 0.004371584699453552,\n",
       " 322711543: 0.007650273224043716,\n",
       " 90574845: 0.003825136612021858,\n",
       " 355823615: 0.018579234972677595,\n",
       " 175624200: 0.020765027322404372,\n",
       " 7385102: 0.001092896174863388,\n",
       " 49164309: 0.0366120218579235,\n",
       " 1159201: 0.001092896174863388,\n",
       " 15224867: 0.014754098360655738,\n",
       " 62050341: 0.06174863387978142,\n",
       " 235163686: 0.006557377049180328,\n",
       " 46059563: 0.002185792349726776,\n",
       " 17158189: 0.012568306010928962,\n",
       " 522817585: 0.012568306010928962,\n",
       " 344776030: 0.018579234972677595,\n",
       " 5992502: 0.016939890710382512,\n",
       " 15134782: 0.001092896174863388,\n",
       " 44134466: 0.015300546448087432,\n",
       " 499839056: 0.011475409836065573,\n",
       " 9973842: 0.03442622950819672,\n",
       " 11726932: 0.030601092896174863,\n",
       " 90320997: 0.02459016393442623,\n",
       " 234270825: 0.003825136612021858,\n",
       " 25071725: 0.0049180327868852455,\n",
       " 1044591: 0.04918032786885246,\n",
       " 8163442: 0.030054644808743168,\n",
       " 19279990: 0.002185792349726776,\n",
       " 309325161: 0.058469945355191254,\n",
       " 548679814: 0.001092896174863388,\n",
       " 17928329: 0.001092896174863388,\n",
       " 11317392: 0.04316939890710383,\n",
       " 20574354: 0.022404371584699455,\n",
       " 19230869: 0.004371584699453552,\n",
       " 187773078: 0.06666666666666667,\n",
       " 50901147: 0.020765027322404372,\n",
       " 369586333: 0.041530054644808745,\n",
       " 94621855: 0.02185792349726776,\n",
       " 95260836: 0.015300546448087432,\n",
       " 189477029: 0.03169398907103825,\n",
       " 84111527: 0.00546448087431694,\n",
       " 304794994: 0.003278688524590164,\n",
       " 224809136: 0.03551912568306011,\n",
       " 7393462: 0.001092896174863388,\n",
       " 41906364: 0.00819672131147541,\n",
       " 12513472: 0.006010928961748634,\n",
       " 16265412: 0.018032786885245903,\n",
       " 88617158: 0.00273224043715847,\n",
       " 462541005: 0.029508196721311476,\n",
       " 5533902: 0.009289617486338797,\n",
       " 19493072: 0.08196721311475409,\n",
       " 117018840: 0.0273224043715847,\n",
       " 341840097: 0.05683060109289617,\n",
       " 243273954: 0.015846994535519125,\n",
       " 3956091: 0.012021857923497269,\n",
       " 16150760: 0.004371584699453552,\n",
       " 22565101: 0.006557377049180328,\n",
       " 115044590: 0.017486338797814208,\n",
       " 372723954: 0.0049180327868852455,\n",
       " 26841335: 0.054098360655737705,\n",
       " 15758036: 0.0273224043715847,\n",
       " 5845242: 0.026775956284153007,\n",
       " 17092862: 0.010382513661202186,\n",
       " 310087940: 0.018032786885245903,\n",
       " 35148062: 0.014754098360655738,\n",
       " 15110431: 0.02622950819672131,\n",
       " 1044771: 0.034972677595628415,\n",
       " 179138862: 0.012568306010928962,\n",
       " 50557241: 0.023497267759562842,\n",
       " 63525184: 0.014754098360655738,\n",
       " ...}"
      ]
     },
     "execution_count": 71,
     "metadata": {},
     "output_type": "execute_result"
    }
   ],
   "source": [
    "degree_centrality = nx.degree_centrality(network)\n",
    "degree_centrality"
   ]
  },
  {
   "cell_type": "code",
   "execution_count": null,
   "metadata": {
    "collapsed": true
   },
   "outputs": [],
   "source": [
    "import operator\n",
    "\n",
    "def sort_map(map):\n",
    "    sortedList = map.items()\n",
    "    sortedList.sort(key=operator.itemgetter(1), reverse=True)\n",
    "    return sortedList"
   ]
  },
  {
   "cell_type": "code",
   "execution_count": 70,
   "metadata": {
    "collapsed": false
   },
   "outputs": [
    {
     "data": {
      "text/plain": [
       "[563031699,\n",
       " 560452336,\n",
       " 557196973,\n",
       " 548679814,\n",
       " 548631386,\n",
       " 548539370,\n",
       " 540216621,\n",
       " 538698377,\n",
       " 529007327,\n",
       " 527526077]"
      ]
     },
     "execution_count": 70,
     "metadata": {},
     "output_type": "execute_result"
    }
   ],
   "source": [
    "#sorted_degree_centrality = sort_map(degree_centrality)\n",
    "degree_centrality_top10 = sorted(degree_centrality, reverse=True)[:10]\n",
    "degree_centrality_top10"
   ]
  },
  {
   "cell_type": "code",
   "execution_count": 68,
   "metadata": {
    "collapsed": false
   },
   "outputs": [
    {
     "data": {
      "text/html": [
       "<div>\n",
       "<table border=\"1\" class=\"dataframe\">\n",
       "  <thead>\n",
       "    <tr style=\"text-align: right;\">\n",
       "      <th></th>\n",
       "      <th>centrality</th>\n",
       "    </tr>\n",
       "  </thead>\n",
       "  <tbody>\n",
       "    <tr>\n",
       "      <th>16038438</th>\n",
       "      <td>0.134973</td>\n",
       "    </tr>\n",
       "    <tr>\n",
       "      <th>3359851</th>\n",
       "      <td>0.130601</td>\n",
       "    </tr>\n",
       "    <tr>\n",
       "      <th>40981798</th>\n",
       "      <td>0.120219</td>\n",
       "    </tr>\n",
       "    <tr>\n",
       "      <th>43003845</th>\n",
       "      <td>0.118579</td>\n",
       "    </tr>\n",
       "    <tr>\n",
       "      <th>153226312</th>\n",
       "      <td>0.108197</td>\n",
       "    </tr>\n",
       "    <tr>\n",
       "      <th>270449528</th>\n",
       "      <td>0.099454</td>\n",
       "    </tr>\n",
       "    <tr>\n",
       "      <th>83943787</th>\n",
       "      <td>0.097268</td>\n",
       "    </tr>\n",
       "    <tr>\n",
       "      <th>259842341</th>\n",
       "      <td>0.096721</td>\n",
       "    </tr>\n",
       "    <tr>\n",
       "      <th>151338729</th>\n",
       "      <td>0.095628</td>\n",
       "    </tr>\n",
       "    <tr>\n",
       "      <th>274153775</th>\n",
       "      <td>0.095082</td>\n",
       "    </tr>\n",
       "  </tbody>\n",
       "</table>\n",
       "</div>"
      ],
      "text/plain": [
       "           centrality\n",
       "16038438     0.134973\n",
       "3359851      0.130601\n",
       "40981798     0.120219\n",
       "43003845     0.118579\n",
       "153226312    0.108197\n",
       "270449528    0.099454\n",
       "83943787     0.097268\n",
       "259842341    0.096721\n",
       "151338729    0.095628\n",
       "274153775    0.095082"
      ]
     },
     "execution_count": 68,
     "metadata": {},
     "output_type": "execute_result"
    }
   ],
   "source": [
    "degree_centrality = nx.degree_centrality(network)\n",
    "\n",
    "import pandas as pd\n",
    "df = pd.DataFrame(degree_centrality.values(), index=degree_centrality.keys(), columns=['centrality'])\n",
    "df2 = df.sort('centrality', ascending=False)\n",
    "df2.head(10)"
   ]
  },
  {
   "cell_type": "code",
   "execution_count": 80,
   "metadata": {
    "collapsed": false
   },
   "outputs": [
    {
     "data": {
      "text/html": [
       "<div>\n",
       "<table border=\"1\" class=\"dataframe\">\n",
       "  <thead>\n",
       "    <tr style=\"text-align: right;\">\n",
       "      <th></th>\n",
       "      <th>centrality</th>\n",
       "    </tr>\n",
       "  </thead>\n",
       "  <tbody>\n",
       "    <tr>\n",
       "      <th>3359851</th>\n",
       "      <td>0.188505</td>\n",
       "    </tr>\n",
       "    <tr>\n",
       "      <th>20273398</th>\n",
       "      <td>0.186995</td>\n",
       "    </tr>\n",
       "    <tr>\n",
       "      <th>115395977</th>\n",
       "      <td>0.171764</td>\n",
       "    </tr>\n",
       "    <tr>\n",
       "      <th>59454817</th>\n",
       "      <td>0.170983</td>\n",
       "    </tr>\n",
       "    <tr>\n",
       "      <th>465838507</th>\n",
       "      <td>0.168557</td>\n",
       "    </tr>\n",
       "    <tr>\n",
       "      <th>127569781</th>\n",
       "      <td>0.167680</td>\n",
       "    </tr>\n",
       "    <tr>\n",
       "      <th>63485337</th>\n",
       "      <td>0.166935</td>\n",
       "    </tr>\n",
       "    <tr>\n",
       "      <th>20661527</th>\n",
       "      <td>0.166443</td>\n",
       "    </tr>\n",
       "    <tr>\n",
       "      <th>16038438</th>\n",
       "      <td>0.166279</td>\n",
       "    </tr>\n",
       "    <tr>\n",
       "      <th>24585498</th>\n",
       "      <td>0.166116</td>\n",
       "    </tr>\n",
       "  </tbody>\n",
       "</table>\n",
       "</div>"
      ],
      "text/plain": [
       "           centrality\n",
       "3359851      0.188505\n",
       "20273398     0.186995\n",
       "115395977    0.171764\n",
       "59454817     0.170983\n",
       "465838507    0.168557\n",
       "127569781    0.167680\n",
       "63485337     0.166935\n",
       "20661527     0.166443\n",
       "16038438     0.166279\n",
       "24585498     0.166116"
      ]
     },
     "execution_count": 80,
     "metadata": {},
     "output_type": "execute_result"
    }
   ],
   "source": [
    "closeness_centrality = nx.closeness_centrality(network)\n",
    "\n",
    "import pandas as pd\n",
    "df = pd.DataFrame(closeness_centrality.values(), index=closeness_centrality.keys(), columns=['centrality'])\n",
    "df2 = df.sort('centrality', ascending=False)\n",
    "df2.head(10)"
   ]
  },
  {
   "cell_type": "code",
   "execution_count": 82,
   "metadata": {
    "collapsed": false
   },
   "outputs": [
    {
     "data": {
      "text/html": [
       "<div>\n",
       "<table border=\"1\" class=\"dataframe\">\n",
       "  <thead>\n",
       "    <tr style=\"text-align: right;\">\n",
       "      <th></th>\n",
       "      <th>centrality</th>\n",
       "    </tr>\n",
       "  </thead>\n",
       "  <tbody>\n",
       "    <tr>\n",
       "      <th>16038438</th>\n",
       "      <td>0.134973</td>\n",
       "    </tr>\n",
       "    <tr>\n",
       "      <th>3359851</th>\n",
       "      <td>0.130601</td>\n",
       "    </tr>\n",
       "    <tr>\n",
       "      <th>40981798</th>\n",
       "      <td>0.120219</td>\n",
       "    </tr>\n",
       "    <tr>\n",
       "      <th>43003845</th>\n",
       "      <td>0.118579</td>\n",
       "    </tr>\n",
       "    <tr>\n",
       "      <th>153226312</th>\n",
       "      <td>0.108197</td>\n",
       "    </tr>\n",
       "    <tr>\n",
       "      <th>270449528</th>\n",
       "      <td>0.099454</td>\n",
       "    </tr>\n",
       "    <tr>\n",
       "      <th>83943787</th>\n",
       "      <td>0.097268</td>\n",
       "    </tr>\n",
       "    <tr>\n",
       "      <th>259842341</th>\n",
       "      <td>0.096721</td>\n",
       "    </tr>\n",
       "    <tr>\n",
       "      <th>151338729</th>\n",
       "      <td>0.095628</td>\n",
       "    </tr>\n",
       "    <tr>\n",
       "      <th>274153775</th>\n",
       "      <td>0.095082</td>\n",
       "    </tr>\n",
       "  </tbody>\n",
       "</table>\n",
       "</div>"
      ],
      "text/plain": [
       "           centrality\n",
       "16038438     0.134973\n",
       "3359851      0.130601\n",
       "40981798     0.120219\n",
       "43003845     0.118579\n",
       "153226312    0.108197\n",
       "270449528    0.099454\n",
       "83943787     0.097268\n",
       "259842341    0.096721\n",
       "151338729    0.095628\n",
       "274153775    0.095082"
      ]
     },
     "execution_count": 82,
     "metadata": {},
     "output_type": "execute_result"
    }
   ],
   "source": [
    "betweenness_centrality = nx.betweenness_centrality(network)\n",
    "\n",
    "import pandas as pd\n",
    "df = pd.DataFrame(bet_centrality.values(), index=bet_centrality.keys(), columns=['centrality'])\n",
    "df2 = df.sort('centrality', ascending=False)\n",
    "df2.head(10)"
   ]
  },
  {
   "cell_type": "code",
   "execution_count": 83,
   "metadata": {
    "collapsed": false
   },
   "outputs": [
    {
     "data": {
      "text/html": [
       "<div>\n",
       "<table border=\"1\" class=\"dataframe\">\n",
       "  <thead>\n",
       "    <tr style=\"text-align: right;\">\n",
       "      <th></th>\n",
       "      <th>centrality</th>\n",
       "    </tr>\n",
       "  </thead>\n",
       "  <tbody>\n",
       "    <tr>\n",
       "      <th>40981798</th>\n",
       "      <td>0.190129</td>\n",
       "    </tr>\n",
       "    <tr>\n",
       "      <th>22462180</th>\n",
       "      <td>0.185740</td>\n",
       "    </tr>\n",
       "    <tr>\n",
       "      <th>34428380</th>\n",
       "      <td>0.184350</td>\n",
       "    </tr>\n",
       "    <tr>\n",
       "      <th>43003845</th>\n",
       "      <td>0.183178</td>\n",
       "    </tr>\n",
       "    <tr>\n",
       "      <th>17868918</th>\n",
       "      <td>0.157820</td>\n",
       "    </tr>\n",
       "    <tr>\n",
       "      <th>31331740</th>\n",
       "      <td>0.144108</td>\n",
       "    </tr>\n",
       "    <tr>\n",
       "      <th>18996905</th>\n",
       "      <td>0.143480</td>\n",
       "    </tr>\n",
       "    <tr>\n",
       "      <th>27633075</th>\n",
       "      <td>0.142211</td>\n",
       "    </tr>\n",
       "    <tr>\n",
       "      <th>8088112</th>\n",
       "      <td>0.140476</td>\n",
       "    </tr>\n",
       "    <tr>\n",
       "      <th>151338729</th>\n",
       "      <td>0.135695</td>\n",
       "    </tr>\n",
       "  </tbody>\n",
       "</table>\n",
       "</div>"
      ],
      "text/plain": [
       "           centrality\n",
       "40981798     0.190129\n",
       "22462180     0.185740\n",
       "34428380     0.184350\n",
       "43003845     0.183178\n",
       "17868918     0.157820\n",
       "31331740     0.144108\n",
       "18996905     0.143480\n",
       "27633075     0.142211\n",
       "8088112      0.140476\n",
       "151338729    0.135695"
      ]
     },
     "execution_count": 83,
     "metadata": {},
     "output_type": "execute_result"
    }
   ],
   "source": [
    "eigenvector_centrality = nx.eigenvector_centrality(network)\n",
    "\n",
    "import pandas as pd\n",
    "df = pd.DataFrame(eigenvector_centrality.values(), index=eigenvector_centrality.keys(), columns=['centrality'])\n",
    "df2 = df.sort('centrality', ascending=False)\n",
    "df2.head(10)"
   ]
  },
  {
   "cell_type": "code",
   "execution_count": null,
   "metadata": {
    "collapsed": true
   },
   "outputs": [],
   "source": []
  }
 ],
 "metadata": {
  "kernelspec": {
   "display_name": "Python 2",
   "language": "python",
   "name": "python2"
  },
  "language_info": {
   "codemirror_mode": {
    "name": "ipython",
    "version": 2
   },
   "file_extension": ".py",
   "mimetype": "text/x-python",
   "name": "python",
   "nbconvert_exporter": "python",
   "pygments_lexer": "ipython2",
   "version": "2.7.9"
  }
 },
 "nbformat": 4,
 "nbformat_minor": 0
}
