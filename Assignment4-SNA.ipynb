{
 "cells": [
  {
   "cell_type": "markdown",
   "metadata": {},
   "source": [
    "# Assignment4. SNA"
   ]
  },
  {
   "cell_type": "markdown",
   "metadata": {},
   "source": [
    "Big data의 등장으로 많은 데이터들을 효율적이고 정확하게 다루는 것이 큰 이슈가 되고, 다양한 분야에서 중요한 판단의 원천이 되고 있다. 수업에서 배운 machine learning과 social network 분야 또한 방대한 양의 데이터가 유입되고 이를 통해 원하는 결론을 도출하기 위하여 분석이 필요하다. Machine learning의 경우, 관심있는 분야이기에 다양한 algorithm 및 목적에 따른 model 생성 후, classification하는 것에 대하여 다루어 보았다. 하지만, social network의 경우에는 개념이 모호했다. Social network analysis란 사용자 간의 자유로운 의사 소통과 정보 공유, 그리고 사회적 관계를 생성하고 강화시켜주기 위한 것이다. 쉽게, SNS에서 제공되는 '알수도 있는 사람' 추천이 social network analysis의 한 예가 될 수 있다. 이번 과제는 이러한 social network의 다양한 graph와 그에 대한 특성 분석, 그리고 twitter에 대한 분석을 수행하였다."
   ]
  },
  {
   "cell_type": "code",
   "execution_count": 26,
   "metadata": {
    "collapsed": true
   },
   "outputs": [],
   "source": [
    "import networkx as nx\n",
    "import networkx.algorithms as algo\n",
    "import matplotlib.pyplot as plt\n",
    "%matplotlib inline"
   ]
  },
  {
   "cell_type": "markdown",
   "metadata": {},
   "source": [
    "##1. Graph Generators를 사용한 그래프 특성 분석\n",
    "###1) Classic 5개"
   ]
  },
  {
   "cell_type": "code",
   "execution_count": 27,
   "metadata": {
    "collapsed": false,
    "scrolled": false
   },
   "outputs": [
    {
     "data": {
      "image/png": "[encoded data removed]",
      "text/plain": [
       "<matplotlib.figure.Figure at 0xc151da0>"
      ]
     },
     "metadata": {},
     "output_type": "display_data"
    }
   ],
   "source": [
    "lollipop = nx.lollipop_graph(3,10)\n",
    "nx.draw(lollipop, node_size=300, with_labels=True, font_size=12)"
   ]
  },
  {
   "cell_type": "markdown",
   "metadata": {},
   "source": [
    "- lollipop_graph(m, n, create_suing=None)\n",
    "- return the Lollipop Graph \n",
    "- m: 동그란 부분의 개수\n",
    "- n: 막대 부분의 개수"
   ]
  },
  {
   "cell_type": "code",
   "execution_count": 34,
   "metadata": {
    "collapsed": false,
    "scrolled": true
   },
   "outputs": [
    {
     "name": "stdout",
     "output_type": "stream",
     "text": [
      "radius(lollipop): 6\n",
      "diameter(lollipop): 11\n",
      "center(lollipop): [6, 7]\n",
      "periphery(lollipop): [0, 1, 12]\n",
      "Average clustering coefficient: 0.179487179487\n"
     ]
    },
    {
     "data": {
      "text/plain": [
       "{0: 1.0,\n",
       " 1: 1.0,\n",
       " 2: 0.3333333333333333,\n",
       " 3: 0.0,\n",
       " 4: 0.0,\n",
       " 5: 0.0,\n",
       " 6: 0.0,\n",
       " 7: 0.0,\n",
       " 8: 0.0,\n",
       " 9: 0.0,\n",
       " 10: 0.0,\n",
       " 11: 0.0,\n",
       " 12: 0.0}"
      ]
     },
     "execution_count": 34,
     "metadata": {},
     "output_type": "execute_result"
    }
   ],
   "source": [
    "print \"radius(lollipop):\", algo.radius(lollipop)\n",
    "print \"diameter(lollipop):\", algo.diameter(lollipop)\n",
    "print \"center(lollipop):\", algo.center(lollipop)\n",
    "print \"periphery(lollipop):\", algo.periphery(lollipop)\n",
    "print \"Average clustering coefficient:\", algo.average_clustering(lollipop)\n",
    "nx.clustering(lollipop)"
   ]
  },
  {
   "cell_type": "markdown",
   "metadata": {},
   "source": [
    "- radius: eccentricity가 가장 작은 값으로 6, 7에서 6으로 가장 작은 값, 즉 radius = 6\n",
    "- diameter: eccentricity가 가장 큰 값으로 0, 1, 12에서 11로 가장 geodesic distance가 크다.\n",
    "- center는 radius 값을 갖는 노드로 6,7이다.\n",
    "- periphery: eccentricity가 diameter과 동일한 값을 갖는 노드로 0, 1, 12가 된다.\n",
    "- cluster coefficient는 이웃 노드들 간의 관계를 나타내며 0, 1, 2 노드에서만 이웃 노드 간의 관계가 존재한다. 0과 1 노드는 이웃간에 모두 edge가 있으므로 값이 1이고, 2번 노드의 경우, 세 개의 이웃간의 노드가 하나밖에 없기 때문에 0.33이 된다."
   ]
  },
  {
   "cell_type": "code",
   "execution_count": 29,
   "metadata": {
    "collapsed": false
   },
   "outputs": [
    {
     "data": {
      "image/png": "[encoded data removed]",
      "text/plain": [
       "<matplotlib.figure.Figure at 0x13da8240>"
      ]
     },
     "metadata": {},
     "output_type": "display_data"
    }
   ],
   "source": [
    "barbell = nx.barbell_graph(3, 15)\n",
    "nx.draw(barbell, node_size=200, with_labels=True, font_size = 7)"
   ]
  },
  {
   "cell_type": "markdown",
   "metadata": {},
   "source": [
    "- barbell_graph(m1, m2[, create_using])\n",
    "- return the barbell graph\n",
    "- m1: 양 끝의 동그란 부분의 개수 (동일)\n",
    "- m2: 양 끝을 연결하는 부분의 node 수"
   ]
  },
  {
   "cell_type": "code",
   "execution_count": 35,
   "metadata": {
    "collapsed": false,
    "scrolled": true
   },
   "outputs": [
    {
     "name": "stdout",
     "output_type": "stream",
     "text": [
      "radius(barbell): 9\n",
      "diameter(barbell): 18\n",
      "center(barbell): [10]\n",
      "periphery(barbell): [0, 1, 19, 20]\n",
      "Average clustering coefficient: 0.222222222222\n"
     ]
    },
    {
     "data": {
      "text/plain": [
       "{0: 1.0,\n",
       " 1: 1.0,\n",
       " 2: 0.3333333333333333,\n",
       " 3: 0.0,\n",
       " 4: 0.0,\n",
       " 5: 0.0,\n",
       " 6: 0.0,\n",
       " 7: 0.0,\n",
       " 8: 0.0,\n",
       " 9: 0.0,\n",
       " 10: 0.0,\n",
       " 11: 0.0,\n",
       " 12: 0.0,\n",
       " 13: 0.0,\n",
       " 14: 0.0,\n",
       " 15: 0.0,\n",
       " 16: 0.0,\n",
       " 17: 0.0,\n",
       " 18: 0.3333333333333333,\n",
       " 19: 1.0,\n",
       " 20: 1.0}"
      ]
     },
     "execution_count": 35,
     "metadata": {},
     "output_type": "execute_result"
    }
   ],
   "source": [
    "print \"radius(barbell):\", algo.radius(barbell)\n",
    "print \"diameter(barbell):\", algo.diameter(barbell)\n",
    "print \"center(barbell):\", algo.center(barbell)\n",
    "print \"periphery(barbell):\", algo.periphery(barbell)\n",
    "print \"Average clustering coefficient:\", algo.average_clustering(barbell)\n",
    "nx.clustering(barbell)"
   ]
  },
  {
   "cell_type": "markdown",
   "metadata": {},
   "source": [
    "- radius 값과 그 값을 갖는 노드인 center는 그래프의 중앙 부근에 있는 노드가 될 것이라 예상된다. 바벨의 모양이 양방향으로 동일하기 때문에 중앙에 위치한 10번 노드가 center가 되고 최소의 eccentricity 값, 즉 radius 값으로 9이다.\n",
    "- diameter는 eccentricity가 최대인 것으로 양방향의 가장 끝에 있는 노드로 이동할 때의 geodesic distance가 된다. 그러므로 periphery는 양 끝 노드인 0, 1, 19, 20번 노드이고 diameter는 18이다.\n",
    "- clustering coefficient는 이웃간의 edge가 존재하는 양 끝의 barbell부분에서만 값이 존재한다. 0, 1, 19, 20 번 노드의 경우 이웃간의 edge가 모두 존재하기 때문에 1이고, 2번과 18번의 경우는 한쪽 이웃 노드와의 edge가 존재하지 않기 때문에 0.33이 된다."
   ]
  },
  {
   "cell_type": "code",
   "execution_count": 36,
   "metadata": {
    "collapsed": false
   },
   "outputs": [
    {
     "data": {
      "image/png": "[encoded data removed]",
      "text/plain": [
       "<matplotlib.figure.Figure at 0x13da82e8>"
      ]
     },
     "metadata": {},
     "output_type": "display_data"
    }
   ],
   "source": [
    "wheel = nx.wheel_graph(10)\n",
    "nx.draw(wheel, node_size=300, with_labels=True, font_size=12)"
   ]
  },
  {
   "cell_type": "markdown",
   "metadata": {},
   "source": [
    "- return the wheel graph: single hub node \n",
    "- 각각의 (n-1)node와 연결된 cycle graph"
   ]
  },
  {
   "cell_type": "code",
   "execution_count": 37,
   "metadata": {
    "collapsed": false,
    "scrolled": true
   },
   "outputs": [
    {
     "name": "stdout",
     "output_type": "stream",
     "text": [
      "radius(wheel): 1\n",
      "diameter(wheel): 2\n",
      "center(wheel): [0]\n",
      "periphery(wheel): [1, 2, 3, 4, 5, 6, 7, 8, 9]\n",
      "Average clustering coefficient: 0.625\n"
     ]
    },
    {
     "data": {
      "text/plain": [
       "{0: 0.25,\n",
       " 1: 0.6666666666666666,\n",
       " 2: 0.6666666666666666,\n",
       " 3: 0.6666666666666666,\n",
       " 4: 0.6666666666666666,\n",
       " 5: 0.6666666666666666,\n",
       " 6: 0.6666666666666666,\n",
       " 7: 0.6666666666666666,\n",
       " 8: 0.6666666666666666,\n",
       " 9: 0.6666666666666666}"
      ]
     },
     "execution_count": 37,
     "metadata": {},
     "output_type": "execute_result"
    }
   ],
   "source": [
    "print \"radius(wheel):\", algo.radius(wheel)\n",
    "print \"diameter(wheel):\", algo.diameter(wheel)\n",
    "print \"center(wheel):\", algo.center(wheel)\n",
    "print \"periphery(wheel):\", algo.periphery(wheel)\n",
    "print \"Average clustering coefficient:\", algo.average_clustering(wheel)\n",
    "nx.clustering(wheel)"
   ]
  },
  {
   "cell_type": "markdown",
   "metadata": {},
   "source": [
    "- wheel 모양은 중앙의 하나의 노드 (single hub node)로 연결된 형태로 cycle graph이다.\n",
    "- radius는 hub node에서 다른 모드로 가는 eccentricity, 즉 1이 되고, center는 모든 노드가 연결된 single hub인 0번 node가 된다.\n",
    "- diameter는 single hub node를 제외한 나머지 노드 간의 거리로, geodesic distance이므로 hub node를 지나는 가장 최소 거리인 2가 된다. Periphery는 역시 hub node를 제외한 모든 노드가 된다.\n",
    "- Cluster coefficient는 hub node를 제외하고 동일한 값을 가지며, 0에서는 다른 노드에 비해 적은 이웃 노드간의 edge가 존재하므로 값이 작게 나온다."
   ]
  },
  {
   "cell_type": "code",
   "execution_count": 38,
   "metadata": {
    "collapsed": false,
    "scrolled": true
   },
   "outputs": [
    {
     "data": {
      "image/png": "[encoded data removed]",
      "text/plain": [
       "<matplotlib.figure.Figure at 0x11c2ac50>"
      ]
     },
     "metadata": {},
     "output_type": "display_data"
    }
   ],
   "source": [
    "path = nx.path_graph(10)\n",
    "nx.draw(path, node_size=300, with_labels=True, font_size=12)"
   ]
  },
  {
   "cell_type": "markdown",
   "metadata": {},
   "source": [
    "- Return the path graph P_n of n nodes linealy connected by n-1 edges."
   ]
  },
  {
   "cell_type": "code",
   "execution_count": 39,
   "metadata": {
    "collapsed": false,
    "scrolled": true
   },
   "outputs": [
    {
     "name": "stdout",
     "output_type": "stream",
     "text": [
      "radius(path): 5\n",
      "diameter(path): 9\n",
      "center(path): [4, 5]\n",
      "periphery(path): [0, 9]\n",
      "Average clustering coefficient: 0.0\n"
     ]
    },
    {
     "data": {
      "text/plain": [
       "{0: 0.0,\n",
       " 1: 0.0,\n",
       " 2: 0.0,\n",
       " 3: 0.0,\n",
       " 4: 0.0,\n",
       " 5: 0.0,\n",
       " 6: 0.0,\n",
       " 7: 0.0,\n",
       " 8: 0.0,\n",
       " 9: 0.0}"
      ]
     },
     "execution_count": 39,
     "metadata": {},
     "output_type": "execute_result"
    }
   ],
   "source": [
    "print \"radius(path):\", algo.radius(path)\n",
    "print \"diameter(path):\", algo.diameter(path)\n",
    "print \"center(path):\", algo.center(path)\n",
    "print \"periphery(path):\", algo.periphery(path)\n",
    "print \"Average clustering coefficient:\", algo.average_clustering(path)\n",
    "nx.clustering(path)"
   ]
  },
  {
   "cell_type": "markdown",
   "metadata": {},
   "source": [
    "- Radius는 중앙에 위치한 node부터의 거리가 되므로 5가 되며, center는 4,5가 된다.\n",
    "- Diameter는 양 끝 점 사이의 geodesic distance가 되며 9가 되고, periphery는 양 끝 노드인 0과 9가 된다.\n",
    "- Clustering coefficient는 각 노드마다 neighbor 간의 edge가 존재하지 않기 때문에 모두 0이 된다."
   ]
  },
  {
   "cell_type": "code",
   "execution_count": 40,
   "metadata": {
    "collapsed": false,
    "scrolled": true
   },
   "outputs": [
    {
     "data": {
      "image/png": "[encoded data removed]",
      "text/plain": [
       "<matplotlib.figure.Figure at 0x14765668>"
      ]
     },
     "metadata": {},
     "output_type": "display_data"
    }
   ],
   "source": [
    "empty = nx.empty_graph(10)\n",
    "nx.draw(empty, node_size=300, with_labels=True, font_size=16)"
   ]
  },
  {
   "cell_type": "markdown",
   "metadata": {},
   "source": [
    "- Return the empty graph with n nodes and zero deges."
   ]
  },
  {
   "cell_type": "code",
   "execution_count": 41,
   "metadata": {
    "collapsed": false,
    "scrolled": true
   },
   "outputs": [
    {
     "name": "stdout",
     "output_type": "stream",
     "text": [
      "radius(empty):"
     ]
    },
    {
     "ename": "NetworkXError",
     "evalue": "Graph not connected: infinite path length",
     "output_type": "error",
     "traceback": [
      "\u001b[1;31m---------------------------------------------------------------------------\u001b[0m",
      "\u001b[1;31mNetworkXError\u001b[0m                             Traceback (most recent call last)",
      "\u001b[1;32m<ipython-input-41-0bffa3c29d88>\u001b[0m in \u001b[0;36m<module>\u001b[1;34m()\u001b[0m\n\u001b[1;32m----> 1\u001b[1;33m \u001b[1;32mprint\u001b[0m \u001b[1;34m\"radius(empty):\"\u001b[0m\u001b[1;33m,\u001b[0m \u001b[0malgo\u001b[0m\u001b[1;33m.\u001b[0m\u001b[0mradius\u001b[0m\u001b[1;33m(\u001b[0m\u001b[0mempty\u001b[0m\u001b[1;33m)\u001b[0m\u001b[1;33m\u001b[0m\u001b[0m\n\u001b[0m\u001b[0;32m      2\u001b[0m \u001b[1;32mprint\u001b[0m \u001b[1;34m\"diameter(empty):\"\u001b[0m\u001b[1;33m,\u001b[0m \u001b[0malgo\u001b[0m\u001b[1;33m.\u001b[0m\u001b[0mdiameter\u001b[0m\u001b[1;33m(\u001b[0m\u001b[0mempty\u001b[0m\u001b[1;33m)\u001b[0m\u001b[1;33m\u001b[0m\u001b[0m\n\u001b[0;32m      3\u001b[0m \u001b[1;32mprint\u001b[0m \u001b[1;34m\"center(empty):\"\u001b[0m\u001b[1;33m,\u001b[0m \u001b[0malgo\u001b[0m\u001b[1;33m.\u001b[0m\u001b[0mcenter\u001b[0m\u001b[1;33m(\u001b[0m\u001b[0mempty\u001b[0m\u001b[1;33m)\u001b[0m\u001b[1;33m\u001b[0m\u001b[0m\n\u001b[0;32m      4\u001b[0m \u001b[1;32mprint\u001b[0m \u001b[1;34m\"periphery(empty):\"\u001b[0m\u001b[1;33m,\u001b[0m \u001b[0malgo\u001b[0m\u001b[1;33m.\u001b[0m\u001b[0mperiphery\u001b[0m\u001b[1;33m(\u001b[0m\u001b[0mempty\u001b[0m\u001b[1;33m)\u001b[0m\u001b[1;33m\u001b[0m\u001b[0m\n\u001b[0;32m      5\u001b[0m \u001b[1;32mprint\u001b[0m \u001b[1;34m\"Average clustering coefficient:\"\u001b[0m\u001b[1;33m,\u001b[0m \u001b[0malgo\u001b[0m\u001b[1;33m.\u001b[0m\u001b[0maverage_clustering\u001b[0m\u001b[1;33m(\u001b[0m\u001b[0mempty\u001b[0m\u001b[1;33m)\u001b[0m\u001b[1;33m\u001b[0m\u001b[0m\n",
      "\u001b[1;32mC:\\Users\\rheem\\AppData\\Local\\Enthought\\Canopy\\User\\lib\\site-packages\\networkx\\algorithms\\distance_measures.pyc\u001b[0m in \u001b[0;36mradius\u001b[1;34m(G, e)\u001b[0m\n\u001b[0;32m    141\u001b[0m     \"\"\"\n\u001b[0;32m    142\u001b[0m     \u001b[1;32mif\u001b[0m \u001b[0me\u001b[0m \u001b[1;32mis\u001b[0m \u001b[0mNone\u001b[0m\u001b[1;33m:\u001b[0m\u001b[1;33m\u001b[0m\u001b[0m\n\u001b[1;32m--> 143\u001b[1;33m         \u001b[0me\u001b[0m\u001b[1;33m=\u001b[0m\u001b[0meccentricity\u001b[0m\u001b[1;33m(\u001b[0m\u001b[0mG\u001b[0m\u001b[1;33m)\u001b[0m\u001b[1;33m\u001b[0m\u001b[0m\n\u001b[0m\u001b[0;32m    144\u001b[0m     \u001b[1;32mreturn\u001b[0m \u001b[0mmin\u001b[0m\u001b[1;33m(\u001b[0m\u001b[0me\u001b[0m\u001b[1;33m.\u001b[0m\u001b[0mvalues\u001b[0m\u001b[1;33m(\u001b[0m\u001b[1;33m)\u001b[0m\u001b[1;33m)\u001b[0m\u001b[1;33m\u001b[0m\u001b[0m\n\u001b[0;32m    145\u001b[0m \u001b[1;33m\u001b[0m\u001b[0m\n",
      "\u001b[1;32mC:\\Users\\rheem\\AppData\\Local\\Enthought\\Canopy\\User\\lib\\site-packages\\networkx\\algorithms\\distance_measures.pyc\u001b[0m in \u001b[0;36meccentricity\u001b[1;34m(G, v, sp)\u001b[0m\n\u001b[0;32m     61\u001b[0m         \u001b[1;32mif\u001b[0m \u001b[0mL\u001b[0m \u001b[1;33m!=\u001b[0m \u001b[0morder\u001b[0m\u001b[1;33m:\u001b[0m\u001b[1;33m\u001b[0m\u001b[0m\n\u001b[0;32m     62\u001b[0m             \u001b[0mmsg\u001b[0m \u001b[1;33m=\u001b[0m \u001b[1;34m\"Graph not connected: infinite path length\"\u001b[0m\u001b[1;33m\u001b[0m\u001b[0m\n\u001b[1;32m---> 63\u001b[1;33m             \u001b[1;32mraise\u001b[0m \u001b[0mnetworkx\u001b[0m\u001b[1;33m.\u001b[0m\u001b[0mNetworkXError\u001b[0m\u001b[1;33m(\u001b[0m\u001b[0mmsg\u001b[0m\u001b[1;33m)\u001b[0m\u001b[1;33m\u001b[0m\u001b[0m\n\u001b[0m\u001b[0;32m     64\u001b[0m \u001b[1;33m\u001b[0m\u001b[0m\n\u001b[0;32m     65\u001b[0m         \u001b[0me\u001b[0m\u001b[1;33m[\u001b[0m\u001b[0mn\u001b[0m\u001b[1;33m]\u001b[0m\u001b[1;33m=\u001b[0m\u001b[0mmax\u001b[0m\u001b[1;33m(\u001b[0m\u001b[0mlength\u001b[0m\u001b[1;33m.\u001b[0m\u001b[0mvalues\u001b[0m\u001b[1;33m(\u001b[0m\u001b[1;33m)\u001b[0m\u001b[1;33m)\u001b[0m\u001b[1;33m\u001b[0m\u001b[0m\n",
      "\u001b[1;31mNetworkXError\u001b[0m: Graph not connected: infinite path length"
     ]
    }
   ],
   "source": [
    "print \"radius(empty):\", algo.radius(empty)\n",
    "print \"diameter(empty):\", algo.diameter(empty)\n",
    "print \"center(empty):\", algo.center(empty)\n",
    "print \"periphery(empty):\", algo.periphery(empty)\n",
    "print \"Average clustering coefficient:\", algo.average_clustering(empty)\n",
    "nx.clustering(empty)"
   ]
  },
  {
   "cell_type": "markdown",
   "metadata": {},
   "source": [
    "- Empty graph의 형태가 궁금하여 선택하였는데, 이는 edge과 degree가 없는 n개의 node를 출력한다. 그러므로 위의 값들이 존재하지 않아 error가 발생한다."
   ]
  },
  {
   "cell_type": "markdown",
   "metadata": {},
   "source": [
    "###2. Random graphs"
   ]
  },
  {
   "cell_type": "code",
   "execution_count": 42,
   "metadata": {
    "collapsed": false
   },
   "outputs": [
    {
     "name": "stdout",
     "output_type": "stream",
     "text": [
      "\n"
     ]
    },
    {
     "data": {
      "image/png": "[encoded data removed]",
      "text/plain": [
       "<matplotlib.figure.Figure at 0x11c1e9b0>"
      ]
     },
     "metadata": {},
     "output_type": "display_data"
    }
   ],
   "source": [
    "regular = nx.random_regular_graph(5, 10)\n",
    "nx.draw(regular, node_size=300, with_labels=True, font_size=15)"
   ]
  },
  {
   "cell_type": "markdown",
   "metadata": {},
   "source": [
    "- Random regular graph 반환\n",
    "- 각각 degree d를 갖는 n개의 node graph 형태 -> 5개의 degree를 갖는 10개의 node\n",
    "- n: degree\n",
    "- n: number of nodes"
   ]
  },
  {
   "cell_type": "code",
   "execution_count": 43,
   "metadata": {
    "collapsed": false,
    "scrolled": true
   },
   "outputs": [
    {
     "name": "stdout",
     "output_type": "stream",
     "text": [
      "radius(regular): 2\n",
      "diameter(regular): 2\n",
      "center(regular): [0, 1, 2, 3, 4, 5, 6, 7, 8, 9]\n",
      "periphery(regular): [0, 1, 2, 3, 4, 5, 6, 7, 8, 9]\n",
      "Average clustering coefficient: 0.48\n"
     ]
    },
    {
     "data": {
      "text/plain": [
       "{0: 0.5,\n",
       " 1: 0.5,\n",
       " 2: 0.5,\n",
       " 3: 0.5,\n",
       " 4: 0.5,\n",
       " 5: 0.5,\n",
       " 6: 0.4,\n",
       " 7: 0.5,\n",
       " 8: 0.5,\n",
       " 9: 0.4}"
      ]
     },
     "execution_count": 43,
     "metadata": {},
     "output_type": "execute_result"
    }
   ],
   "source": [
    "print \"radius(regular):\", algo.radius(regular)\n",
    "print \"diameter(regular):\", algo.diameter(regular)\n",
    "print \"center(regular):\", algo.center(regular)\n",
    "print \"periphery(regular):\", algo.periphery(regular)\n",
    "print \"Average clustering coefficient:\", algo.average_clustering(regular)\n",
    "nx.clustering(regular)"
   ]
  },
  {
   "cell_type": "markdown",
   "metadata": {},
   "source": [
    "- regular graph의 경우, 모든 노드가 random하게 5개씩의 노드와 연결되어 있기 때문에, radius와 diameter가 동일하게 2가 된다. 어떤 노드로 가던 geodesic distance는 2가 되기 때문이다.\n",
    "- Radius와 diameter가 모든 노드에서 동일하기 때문에 center와 periphery도 전체 노드가 속한다.\n",
    "- clustering coefficient는 random하게 연결되어있기 때문에 각각의 이웃 노드들 간의 연결 관계에 차이가 있기 때문에 모든 노드의 값이 동일하지 않다."
   ]
  },
  {
   "cell_type": "code",
   "execution_count": 44,
   "metadata": {
    "collapsed": false
   },
   "outputs": [
    {
     "data": {
      "image/png": "[encoded data removed]",
      "text/plain": [
       "<matplotlib.figure.Figure at 0x115bef28>"
      ]
     },
     "metadata": {},
     "output_type": "display_data"
    }
   ],
   "source": [
    "barabasi = nx.barabasi_albert_graph(10, 3)\n",
    "nx.draw(barabasi, node_size=300, with_labels=True, font_size=15)"
   ]
  },
  {
   "cell_type": "markdown",
   "metadata": {},
   "source": [
    "- Barabasi-Albert preferential attachment model\n",
    "- m: node의 수\n",
    "- m: 새로운 노드에서 존재하는 노드로 attach되는 edge의 수\n",
    "- 새로운 노드가 기존 노드에 3개의 edge로 붙으며 생성되는 그래프 형태"
   ]
  },
  {
   "cell_type": "code",
   "execution_count": 45,
   "metadata": {
    "collapsed": false,
    "scrolled": true
   },
   "outputs": [
    {
     "name": "stdout",
     "output_type": "stream",
     "text": [
      "radius(barabasi): 2\n",
      "diameter(barabasi): 3\n",
      "center(barabasi): [1, 2, 3, 4, 8]\n",
      "periphery(barabasi): [0, 5, 6, 7, 9]\n",
      "Average clustering coefficient: 0.41\n"
     ]
    },
    {
     "data": {
      "text/plain": [
       "{0: 0.3333333333333333,\n",
       " 1: 0.5,\n",
       " 2: 0.2,\n",
       " 3: 0.16666666666666666,\n",
       " 4: 0.3333333333333333,\n",
       " 5: 0.5,\n",
       " 6: 0.3333333333333333,\n",
       " 7: 0.4,\n",
       " 8: 0.6666666666666666,\n",
       " 9: 0.6666666666666666}"
      ]
     },
     "execution_count": 45,
     "metadata": {},
     "output_type": "execute_result"
    }
   ],
   "source": [
    "print \"radius(barabasi):\", algo.radius(barabasi)\n",
    "print \"diameter(barabasi):\", algo.diameter(barabasi)\n",
    "print \"center(barabasi):\", algo.center(barabasi)\n",
    "print \"periphery(barabasi):\", algo.periphery(barabasi)\n",
    "print \"Average clustering coefficient:\", algo.average_clustering(barabasi)\n",
    "nx.clustering(barabasi)"
   ]
  },
  {
   "cell_type": "markdown",
   "metadata": {},
   "source": [
    "- Minimum essentricity는 2로, 노드 1, 2, 3, 4, 8에서 동일하다.\n",
    "- 다른 노드 간의 geodesic distance는 모두 3이므로 diameter는 3이고 periphery는 center인 5개의 노드를 제외한 모든 노드이다.\n",
    "- clustering coefficient는 모두 3개의 edge를 갖기 때문에 전체적으로 값을 갖는다. 하지만 전반적으로 clustering coefficient가 매우 높지 않고, 특히 3번 노드의 경우 매우 작다.왜냐하면 3번 노드의 이웃 노드 간의 연결 관계가 1번과 7번 사이의 edge 하나만 존재하기 때문이다."
   ]
  },
  {
   "cell_type": "code",
   "execution_count": 46,
   "metadata": {
    "collapsed": false
   },
   "outputs": [
    {
     "data": {
      "image/png": "[encoded data removed]",
      "text/plain": [
       "<matplotlib.figure.Figure at 0xc118fd0>"
      ]
     },
     "metadata": {},
     "output_type": "display_data"
    }
   ],
   "source": [
    "powerlaw = nx.random_powerlaw_tree(10, gamma=3, seed=None, tries=100)\n",
    "nx.draw(powerlaw, node_size=300, with_labels=True, font_size=12)"
   ]
  },
  {
   "cell_type": "markdown",
   "metadata": {},
   "source": [
    "- Powerlaw degree distribution을 갖는 graph 출력\n",
    "- n: node의 수\n",
    "- gamma: floatting. power-law의 exponent\n",
    "- seed: random number generator (default = None)\n",
    "- tries: tree의 sequence를 조정하기 위한 attempts의 수"
   ]
  },
  {
   "cell_type": "code",
   "execution_count": 47,
   "metadata": {
    "collapsed": false,
    "scrolled": true
   },
   "outputs": [
    {
     "name": "stdout",
     "output_type": "stream",
     "text": [
      "radius(powerlaw): 3\n",
      "diameter(powerlaw): 6\n",
      "center(powerlaw): [3]\n",
      "periphery(powerlaw): [0, 6, 8, 9]\n",
      "Average clustering coefficient: 0.0\n"
     ]
    },
    {
     "data": {
      "text/plain": [
       "{0: 0.0,\n",
       " 1: 0.0,\n",
       " 2: 0.0,\n",
       " 3: 0.0,\n",
       " 4: 0.0,\n",
       " 5: 0.0,\n",
       " 6: 0.0,\n",
       " 7: 0.0,\n",
       " 8: 0.0,\n",
       " 9: 0.0}"
      ]
     },
     "execution_count": 47,
     "metadata": {},
     "output_type": "execute_result"
    }
   ],
   "source": [
    "print \"radius(powerlaw):\", algo.radius(powerlaw)\n",
    "print \"diameter(powerlaw):\", algo.diameter(powerlaw)\n",
    "print \"center(powerlaw):\", algo.center(powerlaw)\n",
    "print \"periphery(powerlaw):\", algo.periphery(powerlaw)\n",
    "print \"Average clustering coefficient:\", algo.average_clustering(powerlaw)\n",
    "nx.clustering(powerlaw)"
   ]
  },
  {
   "cell_type": "markdown",
   "metadata": {},
   "source": [
    "- radius와 center는 그래프의 중앙에 위치한 노드에서의 거리가 된다. 양 방향의 중심에 위치한 노드에서 양 끝으로 가는 거리가 최소 eccentricity가 되기 때문에 radius는 3, center는 3번 노드가 된다.\n",
    "- diameter는 양 끝 노드 간의 거리로, 6이며 0과 6, 8, 9번 노드가 periphery가 된다.\n",
    "- cluster coefficient는 모두 이웃 노드들 간의 edge가 없기 때문에 0이다."
   ]
  },
  {
   "cell_type": "code",
   "execution_count": 48,
   "metadata": {
    "collapsed": false
   },
   "outputs": [
    {
     "data": {
      "image/png": "[encoded data removed]",
      "text/plain": [
       "<matplotlib.figure.Figure at 0xd8dc390>"
      ]
     },
     "metadata": {},
     "output_type": "display_data"
    }
   ],
   "source": [
    "watts=nx.watts_strogatz_graph(30,3,0.6)\n",
    "nx.draw(watts, node_size=200, with_labels=True, font_size=10)"
   ]
  },
  {
   "cell_type": "markdown",
   "metadata": {},
   "source": [
    "- Watts-Strogatz small-world graph 출력\n",
    "- n: node의 수\n",
    "- k: ring topology에서 k개의 가까운 neighbor과 연결된 각 노드의 수\n",
    "- p: 각 edge의 연결 확률"
   ]
  },
  {
   "cell_type": "code",
   "execution_count": 49,
   "metadata": {
    "collapsed": false,
    "scrolled": true
   },
   "outputs": [
    {
     "name": "stdout",
     "output_type": "stream",
     "text": [
      "radius(watts): 7\n",
      "diameter(watts): 13\n",
      "center(watts): [8, 10, 11]\n",
      "periphery(watts): [1, 3, 12]\n",
      "Average clustering coefficient: 0.0\n"
     ]
    },
    {
     "data": {
      "text/plain": [
       "{0: 0.0,\n",
       " 1: 0.0,\n",
       " 2: 0.0,\n",
       " 3: 0.0,\n",
       " 4: 0.0,\n",
       " 5: 0.0,\n",
       " 6: 0.0,\n",
       " 7: 0.0,\n",
       " 8: 0.0,\n",
       " 9: 0.0,\n",
       " 10: 0.0,\n",
       " 11: 0.0,\n",
       " 12: 0.0,\n",
       " 13: 0.0,\n",
       " 14: 0.0,\n",
       " 15: 0.0,\n",
       " 16: 0.0,\n",
       " 17: 0.0,\n",
       " 18: 0.0,\n",
       " 19: 0.0,\n",
       " 20: 0.0,\n",
       " 21: 0.0,\n",
       " 22: 0.0,\n",
       " 23: 0.0,\n",
       " 24: 0.0,\n",
       " 25: 0.0,\n",
       " 26: 0.0,\n",
       " 27: 0.0,\n",
       " 28: 0.0,\n",
       " 29: 0.0}"
      ]
     },
     "execution_count": 49,
     "metadata": {},
     "output_type": "execute_result"
    }
   ],
   "source": [
    "print \"radius(watts):\", algo.radius(watts)\n",
    "print \"diameter(watts):\", algo.diameter(watts)\n",
    "print \"center(watts):\", algo.center(watts)\n",
    "print \"periphery(watts):\", algo.periphery(watts)\n",
    "print \"Average clustering coefficient:\", algo.average_clustering(watts)\n",
    "nx.clustering(watts)"
   ]
  },
  {
   "cell_type": "markdown",
   "metadata": {
    "collapsed": true
   },
   "source": [
    "- 가장 작은 eccentricity는 7이고, 중앙에 위치한 8, 10, 11번 노드가 center가 된다.\n",
    "- diameter는 양 끝의 eccentricity로 13이며, 양 끝 노드인 1, 3, 12번 노드가 periphery에 해당한다.\n",
    "- 노드의 이웃들 간의 연결관계가 없기 때문에 clustering coefficient는 모두 0이 된다."
   ]
  },
  {
   "cell_type": "code",
   "execution_count": 52,
   "metadata": {
    "collapsed": false
   },
   "outputs": [
    {
     "name": "stdout",
     "output_type": "stream",
     "text": [
      "\n"
     ]
    },
    {
     "data": {
      "image/png": "[encoded data removed]",
      "text/plain": [
       "<matplotlib.figure.Figure at 0x13fa1b38>"
      ]
     },
     "metadata": {},
     "output_type": "display_data"
    }
   ],
   "source": [
    "gnm= nx.gnm_random_graph(10, 15)\n",
    "nx.draw(gnm, node_size=200, with_labels=True, font_size=7)"
   ]
  },
  {
   "cell_type": "markdown",
   "metadata": {},
   "source": [
    "- n개의 node와 m개의 edge를 random하게 추출한 graph\n",
    "- n: node의 수\n",
    "- m: edge의 수"
   ]
  },
  {
   "cell_type": "code",
   "execution_count": 53,
   "metadata": {
    "collapsed": false,
    "scrolled": true
   },
   "outputs": [
    {
     "name": "stdout",
     "output_type": "stream",
     "text": [
      "radius(gnm): 3\n",
      "diameter(gnm): 5\n",
      "center(gnm): [0, 4, 6, 8, 9]\n",
      "periphery(gnm): [3, 7]\n",
      "Average clustering coefficient: 0.222222222222\n"
     ]
    },
    {
     "data": {
      "text/plain": [
       "{0: 1.0,\n",
       " 1: 0.0,\n",
       " 2: 0.0,\n",
       " 3: 0.0,\n",
       " 4: 0.3,\n",
       " 5: 0.3333333333333333,\n",
       " 6: 0.5,\n",
       " 7: 0.0,\n",
       " 8: 0.6666666666666666,\n",
       " 9: 0.4}"
      ]
     },
     "execution_count": 53,
     "metadata": {},
     "output_type": "execute_result"
    }
   ],
   "source": [
    "print \"radius(gnm):\", algo.radius(gnm)\n",
    "print \"diameter(gnm):\", algo.diameter(gnm)\n",
    "print \"center(gnm):\", algo.center(gnm)\n",
    "print \"periphery(gnm):\", algo.periphery(gnm)\n",
    "print \"Average clustering coefficient:\", algo.average_clustering(barbell)\n",
    "nx.clustering(gnm)"
   ]
  },
  {
   "cell_type": "markdown",
   "metadata": {},
   "source": [
    "- 최소 eccentricity는 3으로, center는 0, 4, 6, 8, 9번 노드이다.\n",
    "- 최대 eccentricity는 5로, periphery는 양 끝에 존재하는 3, 7번 노드이다.\n",
    "- 1, 2, 3, 7번 노드에는 이웃 간의 edge가 존재하지 않으며, 0번 노드의 경우 모든 이웃 노드 간의 연결이 있기 때문에 1이 된다."
   ]
  },
  {
   "cell_type": "markdown",
   "metadata": {
    "collapsed": true
   },
   "source": [
    "## 2. Twitter social graph analysis"
   ]
  },
  {
   "cell_type": "code",
   "execution_count": 54,
   "metadata": {
    "collapsed": false
   },
   "outputs": [],
   "source": [
    "from networkx import nx\n",
    "import os\n",
    "import numpy as np\n",
    "\n",
    "mainpath = os.path.dirname(os.path.realpath('__file__'))"
   ]
  },
  {
   "cell_type": "code",
   "execution_count": 55,
   "metadata": {
    "collapsed": false
   },
   "outputs": [],
   "source": [
    "network = nx.DiGraph()\n",
    "    # Directed graph 생성 -> twitter가 방향성이 존재하기 때문 (follower, following)\n",
    "\n",
    "def load_edges():\n",
    "    edge_file = open(\"%s/twitter_combined.txt\" % (mainpath),\"r\")\n",
    "        # twitter_combined.txt의 edge 읽기\n",
    "        \n",
    "    for line in edge_file:\n",
    "        # node from node to\n",
    "        split = [int(x) for x in line.split(\" \")]\n",
    "        node_from = split[0]\n",
    "        node_to = split[1]\n",
    "        network.add_edge(node_from, node_to)\n",
    "        \n",
    "load_edges()"
   ]
  },
  {
   "cell_type": "code",
   "execution_count": 56,
   "metadata": {
    "collapsed": false
   },
   "outputs": [
    {
     "data": {
      "image/png": "[encoded data removed]",
      "text/plain": [
       "<matplotlib.figure.Figure at 0x33877f0>"
      ]
     },
     "metadata": {},
     "output_type": "display_data"
    }
   ],
   "source": [
    "nx.draw(network, node_size=10, with_labels=False, font_size=16)"
   ]
  },
  {
   "cell_type": "markdown",
   "metadata": {},
   "source": [
    "- 노트북의 사양으로 인하여 전체에 대한 그래프를 읽어들이는데 너무 오랜 시간이 소요되되어 'twitter_combined.txt'의 edge data의 사이즈를 줄여 출력하였습니다. "
   ]
  },
  {
   "cell_type": "code",
   "execution_count": 57,
   "metadata": {
    "collapsed": false
   },
   "outputs": [
    {
     "name": "stdout",
     "output_type": "stream",
     "text": [
      "number of nodes: 1831\n",
      "number of edges: 32107\n",
      "average clustering coefficient: 0.503923543895\n"
     ]
    }
   ],
   "source": [
    "unfinetwork = network.to_undirected()\n",
    "print \"number of nodes:\", network.number_of_nodes()\n",
    "print \"number of edges:\", network.number_of_edges()\n",
    "print \"average clustering coefficient:\", nx.average_clustering(unfinetwork)"
   ]
  },
  {
   "cell_type": "code",
   "execution_count": 58,
   "metadata": {
    "collapsed": false
   },
   "outputs": [
    {
     "name": "stdout",
     "output_type": "stream",
     "text": [
      "radius:"
     ]
    },
    {
     "ename": "NetworkXError",
     "evalue": "Graph not connected: infinite path length",
     "output_type": "error",
     "traceback": [
      "\u001b[1;31m---------------------------------------------------------------------------\u001b[0m",
      "\u001b[1;31mNetworkXError\u001b[0m                             Traceback (most recent call last)",
      "\u001b[1;32m<ipython-input-58-89e4bf9b2607>\u001b[0m in \u001b[0;36m<module>\u001b[1;34m()\u001b[0m\n\u001b[1;32m----> 1\u001b[1;33m \u001b[1;32mprint\u001b[0m \u001b[1;34m\"radius:\"\u001b[0m\u001b[1;33m,\u001b[0m \u001b[0malgo\u001b[0m\u001b[1;33m.\u001b[0m\u001b[0mradius\u001b[0m\u001b[1;33m(\u001b[0m\u001b[0mnetwork\u001b[0m\u001b[1;33m)\u001b[0m\u001b[1;33m\u001b[0m\u001b[0m\n\u001b[0m\u001b[0;32m      2\u001b[0m \u001b[1;32mprint\u001b[0m \u001b[1;34m\"diameter:\"\u001b[0m\u001b[1;33m,\u001b[0m \u001b[0malgo\u001b[0m\u001b[1;33m.\u001b[0m\u001b[0mdiameter\u001b[0m\u001b[1;33m(\u001b[0m\u001b[0mnetwork\u001b[0m\u001b[1;33m)\u001b[0m\u001b[1;33m\u001b[0m\u001b[0m\n",
      "\u001b[1;32mC:\\Users\\rheem\\AppData\\Local\\Enthought\\Canopy\\User\\lib\\site-packages\\networkx\\algorithms\\distance_measures.pyc\u001b[0m in \u001b[0;36mradius\u001b[1;34m(G, e)\u001b[0m\n\u001b[0;32m    141\u001b[0m     \"\"\"\n\u001b[0;32m    142\u001b[0m     \u001b[1;32mif\u001b[0m \u001b[0me\u001b[0m \u001b[1;32mis\u001b[0m \u001b[0mNone\u001b[0m\u001b[1;33m:\u001b[0m\u001b[1;33m\u001b[0m\u001b[0m\n\u001b[1;32m--> 143\u001b[1;33m         \u001b[0me\u001b[0m\u001b[1;33m=\u001b[0m\u001b[0meccentricity\u001b[0m\u001b[1;33m(\u001b[0m\u001b[0mG\u001b[0m\u001b[1;33m)\u001b[0m\u001b[1;33m\u001b[0m\u001b[0m\n\u001b[0m\u001b[0;32m    144\u001b[0m     \u001b[1;32mreturn\u001b[0m \u001b[0mmin\u001b[0m\u001b[1;33m(\u001b[0m\u001b[0me\u001b[0m\u001b[1;33m.\u001b[0m\u001b[0mvalues\u001b[0m\u001b[1;33m(\u001b[0m\u001b[1;33m)\u001b[0m\u001b[1;33m)\u001b[0m\u001b[1;33m\u001b[0m\u001b[0m\n\u001b[0;32m    145\u001b[0m \u001b[1;33m\u001b[0m\u001b[0m\n",
      "\u001b[1;32mC:\\Users\\rheem\\AppData\\Local\\Enthought\\Canopy\\User\\lib\\site-packages\\networkx\\algorithms\\distance_measures.pyc\u001b[0m in \u001b[0;36meccentricity\u001b[1;34m(G, v, sp)\u001b[0m\n\u001b[0;32m     61\u001b[0m         \u001b[1;32mif\u001b[0m \u001b[0mL\u001b[0m \u001b[1;33m!=\u001b[0m \u001b[0morder\u001b[0m\u001b[1;33m:\u001b[0m\u001b[1;33m\u001b[0m\u001b[0m\n\u001b[0;32m     62\u001b[0m             \u001b[0mmsg\u001b[0m \u001b[1;33m=\u001b[0m \u001b[1;34m\"Graph not connected: infinite path length\"\u001b[0m\u001b[1;33m\u001b[0m\u001b[0m\n\u001b[1;32m---> 63\u001b[1;33m             \u001b[1;32mraise\u001b[0m \u001b[0mnetworkx\u001b[0m\u001b[1;33m.\u001b[0m\u001b[0mNetworkXError\u001b[0m\u001b[1;33m(\u001b[0m\u001b[0mmsg\u001b[0m\u001b[1;33m)\u001b[0m\u001b[1;33m\u001b[0m\u001b[0m\n\u001b[0m\u001b[0;32m     64\u001b[0m \u001b[1;33m\u001b[0m\u001b[0m\n\u001b[0;32m     65\u001b[0m         \u001b[0me\u001b[0m\u001b[1;33m[\u001b[0m\u001b[0mn\u001b[0m\u001b[1;33m]\u001b[0m\u001b[1;33m=\u001b[0m\u001b[0mmax\u001b[0m\u001b[1;33m(\u001b[0m\u001b[0mlength\u001b[0m\u001b[1;33m.\u001b[0m\u001b[0mvalues\u001b[0m\u001b[1;33m(\u001b[0m\u001b[1;33m)\u001b[0m\u001b[1;33m)\u001b[0m\u001b[1;33m\u001b[0m\u001b[0m\n",
      "\u001b[1;31mNetworkXError\u001b[0m: Graph not connected: infinite path length"
     ]
    }
   ],
   "source": [
    "print \"radius:\", algo.radius(network)\n",
    "print \"diameter:\", algo.diameter(network)"
   ]
  },
  {
   "cell_type": "markdown",
   "metadata": {},
   "source": [
    "- Edge 데이터를 줄여서 가져오면서 node 간에 연결되지 않은 부분이 생성되어 eccentricity를 구할 수 없어서 발생한 문제로 생각됩니다. Minimum eccentricity와 maximum eccentricity 모두 infinite로 출력되며, 노드 간의 연결이 끊어져있기 때문에 거리를 계산할 수 없다 판단하였습니다."
   ]
  },
  {
   "cell_type": "code",
   "execution_count": 64,
   "metadata": {
    "collapsed": false
   },
   "outputs": [
    {
     "name": "stdout",
     "output_type": "stream",
     "text": [
      "number of SCC node: 982\n",
      "number of SCC edge: 18069\n"
     ]
    }
   ],
   "source": [
    "# SCC\n",
    "largest_scc = max(nx.strongly_connected_component_subgraphs(network), key=len)\n",
    "print \"number of SCC node:\", len(largest_scc.nodes())\n",
    "print \"number of SCC edge:\", len(largest_scc.edges())"
   ]
  },
  {
   "cell_type": "code",
   "execution_count": 62,
   "metadata": {
    "collapsed": false
   },
   "outputs": [
    {
     "name": "stdout",
     "output_type": "stream",
     "text": [
      "number of WCC node: 1357\n",
      "number of WCC edge: 21045\n"
     ]
    }
   ],
   "source": [
    "# WCC\n",
    "largest_wcc = max(nx.weakly_connected_component_subgraphs(network), key=len)\n",
    "print \"number of WCC node:\", len(largest_wcc.nodes())\n",
    "print \"number of WCC edge:\", len(largest_wcc.edges())"
   ]
  },
  {
   "cell_type": "code",
   "execution_count": 69,
   "metadata": {
    "collapsed": false
   },
   "outputs": [
    {
     "data": {
      "text/html": [
       "<div>\n",
       "<table border=\"1\" class=\"dataframe\">\n",
       "  <thead>\n",
       "    <tr style=\"text-align: right;\">\n",
       "      <th></th>\n",
       "      <th>centrality</th>\n",
       "    </tr>\n",
       "  </thead>\n",
       "  <tbody>\n",
       "    <tr>\n",
       "      <th>16038438</th>\n",
       "      <td>0.134973</td>\n",
       "    </tr>\n",
       "    <tr>\n",
       "      <th>3359851</th>\n",
       "      <td>0.130601</td>\n",
       "    </tr>\n",
       "    <tr>\n",
       "      <th>40981798</th>\n",
       "      <td>0.120219</td>\n",
       "    </tr>\n",
       "    <tr>\n",
       "      <th>43003845</th>\n",
       "      <td>0.118579</td>\n",
       "    </tr>\n",
       "    <tr>\n",
       "      <th>153226312</th>\n",
       "      <td>0.108197</td>\n",
       "    </tr>\n",
       "    <tr>\n",
       "      <th>270449528</th>\n",
       "      <td>0.099454</td>\n",
       "    </tr>\n",
       "    <tr>\n",
       "      <th>83943787</th>\n",
       "      <td>0.097268</td>\n",
       "    </tr>\n",
       "    <tr>\n",
       "      <th>259842341</th>\n",
       "      <td>0.096721</td>\n",
       "    </tr>\n",
       "    <tr>\n",
       "      <th>151338729</th>\n",
       "      <td>0.095628</td>\n",
       "    </tr>\n",
       "    <tr>\n",
       "      <th>274153775</th>\n",
       "      <td>0.095082</td>\n",
       "    </tr>\n",
       "  </tbody>\n",
       "</table>\n",
       "</div>"
      ],
      "text/plain": [
       "           centrality\n",
       "16038438     0.134973\n",
       "3359851      0.130601\n",
       "40981798     0.120219\n",
       "43003845     0.118579\n",
       "153226312    0.108197\n",
       "270449528    0.099454\n",
       "83943787     0.097268\n",
       "259842341    0.096721\n",
       "151338729    0.095628\n",
       "274153775    0.095082"
      ]
     },
     "execution_count": 69,
     "metadata": {},
     "output_type": "execute_result"
    }
   ],
   "source": [
    "# Degree centrality\n",
    "degree_centrality = nx.degree_centrality(network)\n",
    "\n",
    "import pandas as pd\n",
    "degree = pd.DataFrame(degree_centrality.values(), index=degree_centrality.keys(), columns=['centrality'])\n",
    "degree_top10 = degree.sort('centrality', ascending=False)\n",
    "degree_top10.head(10)"
   ]
  },
  {
   "cell_type": "code",
   "execution_count": 70,
   "metadata": {
    "collapsed": false
   },
   "outputs": [
    {
     "data": {
      "text/html": [
       "<div>\n",
       "<table border=\"1\" class=\"dataframe\">\n",
       "  <thead>\n",
       "    <tr style=\"text-align: right;\">\n",
       "      <th></th>\n",
       "      <th>centrality</th>\n",
       "    </tr>\n",
       "  </thead>\n",
       "  <tbody>\n",
       "    <tr>\n",
       "      <th>3359851</th>\n",
       "      <td>0.188505</td>\n",
       "    </tr>\n",
       "    <tr>\n",
       "      <th>20273398</th>\n",
       "      <td>0.186995</td>\n",
       "    </tr>\n",
       "    <tr>\n",
       "      <th>115395977</th>\n",
       "      <td>0.171764</td>\n",
       "    </tr>\n",
       "    <tr>\n",
       "      <th>59454817</th>\n",
       "      <td>0.170983</td>\n",
       "    </tr>\n",
       "    <tr>\n",
       "      <th>465838507</th>\n",
       "      <td>0.168557</td>\n",
       "    </tr>\n",
       "    <tr>\n",
       "      <th>127569781</th>\n",
       "      <td>0.167680</td>\n",
       "    </tr>\n",
       "    <tr>\n",
       "      <th>63485337</th>\n",
       "      <td>0.166935</td>\n",
       "    </tr>\n",
       "    <tr>\n",
       "      <th>20661527</th>\n",
       "      <td>0.166443</td>\n",
       "    </tr>\n",
       "    <tr>\n",
       "      <th>16038438</th>\n",
       "      <td>0.166279</td>\n",
       "    </tr>\n",
       "    <tr>\n",
       "      <th>24585498</th>\n",
       "      <td>0.166116</td>\n",
       "    </tr>\n",
       "  </tbody>\n",
       "</table>\n",
       "</div>"
      ],
      "text/plain": [
       "           centrality\n",
       "3359851      0.188505\n",
       "20273398     0.186995\n",
       "115395977    0.171764\n",
       "59454817     0.170983\n",
       "465838507    0.168557\n",
       "127569781    0.167680\n",
       "63485337     0.166935\n",
       "20661527     0.166443\n",
       "16038438     0.166279\n",
       "24585498     0.166116"
      ]
     },
     "execution_count": 70,
     "metadata": {},
     "output_type": "execute_result"
    }
   ],
   "source": [
    "# Closeness_centrality\n",
    "closeness_centrality = nx.closeness_centrality(network)\n",
    "\n",
    "import pandas as pd\n",
    "closeness = pd.DataFrame(closeness_centrality.values(), index=closeness_centrality.keys(), columns=['centrality'])\n",
    "closeness_top10 = closeness.sort('centrality', ascending=False)\n",
    "closeness_top10.head(10)"
   ]
  },
  {
   "cell_type": "code",
   "execution_count": 71,
   "metadata": {
    "collapsed": false
   },
   "outputs": [
    {
     "data": {
      "text/html": [
       "<div>\n",
       "<table border=\"1\" class=\"dataframe\">\n",
       "  <thead>\n",
       "    <tr style=\"text-align: right;\">\n",
       "      <th></th>\n",
       "      <th>centrality</th>\n",
       "    </tr>\n",
       "  </thead>\n",
       "  <tbody>\n",
       "    <tr>\n",
       "      <th>3359851</th>\n",
       "      <td>0.167797</td>\n",
       "    </tr>\n",
       "    <tr>\n",
       "      <th>15666380</th>\n",
       "      <td>0.131412</td>\n",
       "    </tr>\n",
       "    <tr>\n",
       "      <th>20273398</th>\n",
       "      <td>0.080371</td>\n",
       "    </tr>\n",
       "    <tr>\n",
       "      <th>4620451</th>\n",
       "      <td>0.073102</td>\n",
       "    </tr>\n",
       "    <tr>\n",
       "      <th>15439395</th>\n",
       "      <td>0.064665</td>\n",
       "    </tr>\n",
       "    <tr>\n",
       "      <th>16038438</th>\n",
       "      <td>0.051454</td>\n",
       "    </tr>\n",
       "    <tr>\n",
       "      <th>11348282</th>\n",
       "      <td>0.045511</td>\n",
       "    </tr>\n",
       "    <tr>\n",
       "      <th>15234407</th>\n",
       "      <td>0.037672</td>\n",
       "    </tr>\n",
       "    <tr>\n",
       "      <th>8295072</th>\n",
       "      <td>0.035582</td>\n",
       "    </tr>\n",
       "    <tr>\n",
       "      <th>63485337</th>\n",
       "      <td>0.030047</td>\n",
       "    </tr>\n",
       "  </tbody>\n",
       "</table>\n",
       "</div>"
      ],
      "text/plain": [
       "          centrality\n",
       "3359851     0.167797\n",
       "15666380    0.131412\n",
       "20273398    0.080371\n",
       "4620451     0.073102\n",
       "15439395    0.064665\n",
       "16038438    0.051454\n",
       "11348282    0.045511\n",
       "15234407    0.037672\n",
       "8295072     0.035582\n",
       "63485337    0.030047"
      ]
     },
     "execution_count": 71,
     "metadata": {},
     "output_type": "execute_result"
    }
   ],
   "source": [
    "# Betweenness_centrality\n",
    "betweenness_centrality = nx.betweenness_centrality(network)\n",
    "\n",
    "import pandas as pd\n",
    "betweenness = pd.DataFrame(betweenness_centrality.values(), index=betweenness_centrality.keys(), columns=['centrality'])\n",
    "betweenness_top10 = betweenness.sort('centrality', ascending=False)\n",
    "betweenness_top10.head(10)"
   ]
  },
  {
   "cell_type": "code",
   "execution_count": 72,
   "metadata": {
    "collapsed": false
   },
   "outputs": [
    {
     "data": {
      "text/html": [
       "<div>\n",
       "<table border=\"1\" class=\"dataframe\">\n",
       "  <thead>\n",
       "    <tr style=\"text-align: right;\">\n",
       "      <th></th>\n",
       "      <th>centrality</th>\n",
       "    </tr>\n",
       "  </thead>\n",
       "  <tbody>\n",
       "    <tr>\n",
       "      <th>40981798</th>\n",
       "      <td>0.190129</td>\n",
       "    </tr>\n",
       "    <tr>\n",
       "      <th>22462180</th>\n",
       "      <td>0.185740</td>\n",
       "    </tr>\n",
       "    <tr>\n",
       "      <th>34428380</th>\n",
       "      <td>0.184350</td>\n",
       "    </tr>\n",
       "    <tr>\n",
       "      <th>43003845</th>\n",
       "      <td>0.183178</td>\n",
       "    </tr>\n",
       "    <tr>\n",
       "      <th>17868918</th>\n",
       "      <td>0.157820</td>\n",
       "    </tr>\n",
       "    <tr>\n",
       "      <th>31331740</th>\n",
       "      <td>0.144108</td>\n",
       "    </tr>\n",
       "    <tr>\n",
       "      <th>18996905</th>\n",
       "      <td>0.143480</td>\n",
       "    </tr>\n",
       "    <tr>\n",
       "      <th>27633075</th>\n",
       "      <td>0.142211</td>\n",
       "    </tr>\n",
       "    <tr>\n",
       "      <th>8088112</th>\n",
       "      <td>0.140476</td>\n",
       "    </tr>\n",
       "    <tr>\n",
       "      <th>151338729</th>\n",
       "      <td>0.135695</td>\n",
       "    </tr>\n",
       "  </tbody>\n",
       "</table>\n",
       "</div>"
      ],
      "text/plain": [
       "           centrality\n",
       "40981798     0.190129\n",
       "22462180     0.185740\n",
       "34428380     0.184350\n",
       "43003845     0.183178\n",
       "17868918     0.157820\n",
       "31331740     0.144108\n",
       "18996905     0.143480\n",
       "27633075     0.142211\n",
       "8088112      0.140476\n",
       "151338729    0.135695"
      ]
     },
     "execution_count": 72,
     "metadata": {},
     "output_type": "execute_result"
    }
   ],
   "source": [
    "# Eigenvector_centrality\n",
    "eigenvector_centrality = nx.eigenvector_centrality(network)\n",
    "\n",
    "import pandas as pd\n",
    "eigenvector = pd.DataFrame(eigenvector_centrality.values(), index=eigenvector_centrality.keys(), columns=['centrality'])\n",
    "eigenvector_top10 = eigenvector.sort('centrality', ascending=False)\n",
    "eigenvector_top10.head(10)"
   ]
  },
  {
   "cell_type": "markdown",
   "metadata": {
    "collapsed": true
   },
   "source": [
    "이번 과제는 총 두 문제로 social network graph 10개 분석과 twitter social graph 분석에 대한 것이었다. Social network graph의 경우, 수업 시간에 잠깐 보았을 때는 흥미를 느끼지 못하였는데, 노드의 개수, edge의 개수 등을 변경하며 graph의 형태를 관찰하였고, 각각의 radius, diameter 등 특징을 계산하고 분석하였다. 다양한 그래프들이 있었지만 그 중 empty graph가 가장 기억에 남는다. Edge와 degree가 없는 n개의 node를 출력하는 그래프인데, 무엇을 위해 사용하도록 만들어진 것인지에 대한 의문이 들었다. 원하는 edge 정보를 입력하기 전에 초기화를 목적으로 사용하는 것이 아닐까 싶다. 두번째, twitter social graph 분석은 기본 python에 대한 기초와 data를 읽어오는 것에 대해 미숙해서 많이 어려웠다. 또한 노트북의 사양으로 인하여 전체 데이터를 분석하지 못한 점이 매우 아쉽다. 하지만, 그래프를 출력하고 특성을 출력하면서 이론으로 배웠던 것들에 대하여 더 정확히 알 수 있었다. 특히, edge의 개수를 잘라내었기에 노드가 완전히 연결되지 않았을 수도 있어서 radius와 diameter가 출력되지 않을 수 있다는 점이었다. 처음에는 값이 출력되지 않아서 당황하였는데, 노드가 끊어졌다고 보면 최소 거리가 존재하지 않고 infinite로 출력이 될 것이다. 또한 전체 노드의 개수와 WCC의 노드 개수에 차이가 있는 것을 보면 모든 노드가 연결되지 않았음을 알 수 있다. 그러므로 radius와 diameter 값에서 오류가 발생하였다고 판단하였다. 또한 directed graph를 출력했을 때 흥미로웠던 점은 중간 노드에 가장 많은 edge가 존재하고 밀집해 있다는 점이었다. 외곽으로 갈수록 edge가 적고 서로 연결된 부분이 거의 없었다. 이런 특성을 확인하는 것이 매우 신기하였다. 전체 데이터에 대해 수행하고 SNAP 사이트의 값과 비교해보지 못한 것이 정말 아쉬운 과제라고 생각한다. "
   ]
  },
  {
   "cell_type": "markdown",
   "metadata": {},
   "source": [
    "첫 수업을 들었을 때, 생각했던 수업과는 다른 목적의 과목이어서 당황하였고, 써본적이 없는 Python을 써야한다는 것이 매우 부담되었습니다. 하지만 관심 분야인 machine learning algorithm을 다루었고, 이번 수업이 아니었으면 접해보지 못했을 social network에 대해 간략하게 나마 알게 된 것은 앞으로 다른 연구에서도 큰 도움이 될 것 같습니다. 특히 data를 분석하는 과제를 함으로서 주어진 데이터를 visualization하고 분석하는 것이 이전보다 어렵게 느껴지지 않는 점에서 많은 것을 배웠던 것 같습니다.독후감을 위해 읽었던 '통계학이 최강의 학문이다'를 보면, 빅데이터 분석이 중요해지고 이를 판단하기 위하여 통계학이 매우 중요하다고 하는데, 수업을 통해 이런 거대한 데이터들의 분석의 중요성을 많이 느꼈습니다. Machine learning algorithm에 대해 공부하고 있는데, 많은 data를 효율적으로 관리하고 처리하기 위하여 더 연구해야겠다는 생각이 들었습니다. 한 학기동안 수업 정말 잘 들었습니다. 감사합니다!"
   ]
  },
  {
   "cell_type": "code",
   "execution_count": null,
   "metadata": {
    "collapsed": true
   },
   "outputs": [],
   "source": []
  }
 ],
 "metadata": {
  "kernelspec": {
   "display_name": "Python 2",
   "language": "python",
   "name": "python2"
  },
  "language_info": {
   "codemirror_mode": {
    "name": "ipython",
    "version": 2
   },
   "file_extension": ".py",
   "mimetype": "text/x-python",
   "name": "python",
   "nbconvert_exporter": "python",
   "pygments_lexer": "ipython2",
   "version": "2.7.9"
  }
 },
 "nbformat": 4,
 "nbformat_minor": 0
}
